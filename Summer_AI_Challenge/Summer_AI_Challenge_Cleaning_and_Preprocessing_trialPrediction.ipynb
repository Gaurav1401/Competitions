{
  "nbformat": 4,
  "nbformat_minor": 0,
  "metadata": {
    "kernelspec": {
      "display_name": "Python 3",
      "language": "python",
      "name": "python3"
    },
    "language_info": {
      "codemirror_mode": {
        "name": "ipython",
        "version": 3
      },
      "file_extension": ".py",
      "mimetype": "text/x-python",
      "name": "python",
      "nbconvert_exporter": "python",
      "pygments_lexer": "ipython3",
      "version": "3.8.5"
    },
    "colab": {
      "name": "Summer_AI_Challenge_Cleaning_and_Preprocessing.ipynb",
      "provenance": []
    }
  },
  "cells": [
    {
      "cell_type": "code",
      "metadata": {
        "id": "tiCRrhxpcjrq"
      },
      "source": [
        "import numpy as np\n",
        "import pandas as pd\n",
        "import matplotlib.pyplot as plt\n",
        "import seaborn as sns\n",
        "%matplotlib inline"
      ],
      "execution_count": 1,
      "outputs": []
    },
    {
      "cell_type": "code",
      "metadata": {
        "id": "jMnKF0CAcjr6"
      },
      "source": [
        "# to ignore warnings\n",
        "import warnings as wg\n",
        "wg.filterwarnings(\"ignore\")"
      ],
      "execution_count": 2,
      "outputs": []
    },
    {
      "cell_type": "code",
      "metadata": {
        "id": "42kpFwCucjr8"
      },
      "source": [
        "pd.set_option('max_rows', None)"
      ],
      "execution_count": 3,
      "outputs": []
    },
    {
      "cell_type": "markdown",
      "metadata": {
        "id": "aEZXATJzcjr9"
      },
      "source": [
        "### Loading the reproducible data"
      ]
    },
    {
      "cell_type": "code",
      "metadata": {
        "id": "tIQSKmnicjr-"
      },
      "source": [
        "data = pd.read_csv('train.csv')"
      ],
      "execution_count": 4,
      "outputs": []
    },
    {
      "cell_type": "code",
      "metadata": {
        "id": "0eHSEgUkcjr_"
      },
      "source": [
        "x = data.drop('CustomerAttrition', axis = 'columns')\n",
        "y = data['CustomerAttrition']"
      ],
      "execution_count": 5,
      "outputs": []
    },
    {
      "cell_type": "code",
      "metadata": {
        "id": "YLwjhgMlcjsA"
      },
      "source": [
        "from sklearn.model_selection import train_test_split"
      ],
      "execution_count": 6,
      "outputs": []
    },
    {
      "cell_type": "code",
      "metadata": {
        "id": "FECOK07RcjsA"
      },
      "source": [
        "X_train, X_test, Y_train, Y_test = train_test_split(x, y, test_size=0.2, random_state=1, stratify=y)"
      ],
      "execution_count": 7,
      "outputs": []
    },
    {
      "cell_type": "code",
      "metadata": {
        "id": "HH8W34I0cjsB"
      },
      "source": [
        "# Dropping ID column\n",
        "X_train = X_train.drop('ID', axis = 'columns')"
      ],
      "execution_count": 8,
      "outputs": []
    },
    {
      "cell_type": "markdown",
      "metadata": {
        "id": "PmqiBJaScjsC"
      },
      "source": [
        "**Imputing Values in GrandPayment Column**"
      ]
    },
    {
      "cell_type": "code",
      "metadata": {
        "id": "xvcqX9g1cjsD"
      },
      "source": [
        "# Imputing the missing 'GrandPayment' with -1\n",
        "# If I fill them with 0 then it may mean that their bill is pending \n",
        "X_train['GrandPayment'] = X_train['GrandPayment'].fillna(-1)"
      ],
      "execution_count": 9,
      "outputs": []
    },
    {
      "cell_type": "markdown",
      "metadata": {
        "id": "6mIO7khpcjsD"
      },
      "source": [
        "**Replacing all negative values of ServiceSpan with 0**"
      ]
    },
    {
      "cell_type": "code",
      "metadata": {
        "id": "9iX7TiTzcjsE"
      },
      "source": [
        "X_train['ServiceSpan'] = X_train['ServiceSpan'].replace([-2, -1], 0)"
      ],
      "execution_count": 10,
      "outputs": []
    },
    {
      "cell_type": "code",
      "metadata": {
        "colab": {
          "base_uri": "https://localhost:8080/",
          "height": 301
        },
        "id": "LDAqepMJcjsF",
        "outputId": "9a322b79-0db5-4a48-bfad-78d1910ef8cc"
      },
      "source": [
        "X_train.head()"
      ],
      "execution_count": 11,
      "outputs": [
        {
          "output_type": "execute_result",
          "data": {
            "text/html": [
              "<div>\n",
              "<style scoped>\n",
              "    .dataframe tbody tr th:only-of-type {\n",
              "        vertical-align: middle;\n",
              "    }\n",
              "\n",
              "    .dataframe tbody tr th {\n",
              "        vertical-align: top;\n",
              "    }\n",
              "\n",
              "    .dataframe thead th {\n",
              "        text-align: right;\n",
              "    }\n",
              "</style>\n",
              "<table border=\"1\" class=\"dataframe\">\n",
              "  <thead>\n",
              "    <tr style=\"text-align: right;\">\n",
              "      <th></th>\n",
              "      <th>sex</th>\n",
              "      <th>Aged</th>\n",
              "      <th>Married</th>\n",
              "      <th>TotalDependents</th>\n",
              "      <th>ServiceSpan</th>\n",
              "      <th>MobileService</th>\n",
              "      <th>4GService</th>\n",
              "      <th>CyberProtection</th>\n",
              "      <th>HardwareSupport</th>\n",
              "      <th>TechnicalAssistance</th>\n",
              "      <th>FilmSubscription</th>\n",
              "      <th>SettlementProcess</th>\n",
              "      <th>QuarterlyPayment</th>\n",
              "      <th>GrandPayment</th>\n",
              "    </tr>\n",
              "  </thead>\n",
              "  <tbody>\n",
              "    <tr>\n",
              "      <th>769</th>\n",
              "      <td>Female</td>\n",
              "      <td>Yes</td>\n",
              "      <td>No</td>\n",
              "      <td>No</td>\n",
              "      <td>55</td>\n",
              "      <td>Yes</td>\n",
              "      <td>Wifi Broadband</td>\n",
              "      <td>No</td>\n",
              "      <td>No</td>\n",
              "      <td>No</td>\n",
              "      <td>No</td>\n",
              "      <td>Electronic</td>\n",
              "      <td>89.804996</td>\n",
              "      <td>4931.437050</td>\n",
              "    </tr>\n",
              "    <tr>\n",
              "      <th>1456</th>\n",
              "      <td>Male</td>\n",
              "      <td>Yes</td>\n",
              "      <td>Yes</td>\n",
              "      <td>No</td>\n",
              "      <td>58</td>\n",
              "      <td>Yes</td>\n",
              "      <td>Wifi Broadband</td>\n",
              "      <td>No</td>\n",
              "      <td>Yes</td>\n",
              "      <td>No</td>\n",
              "      <td>No</td>\n",
              "      <td>Electronic</td>\n",
              "      <td>98.339137</td>\n",
              "      <td>5867.204745</td>\n",
              "    </tr>\n",
              "    <tr>\n",
              "      <th>6326</th>\n",
              "      <td>Male</td>\n",
              "      <td>No</td>\n",
              "      <td>No</td>\n",
              "      <td>No</td>\n",
              "      <td>51</td>\n",
              "      <td>Yes</td>\n",
              "      <td>Wifi Broadband</td>\n",
              "      <td>Yes</td>\n",
              "      <td>Yes</td>\n",
              "      <td>Yes</td>\n",
              "      <td>No</td>\n",
              "      <td>Check</td>\n",
              "      <td>99.021300</td>\n",
              "      <td>5425.362193</td>\n",
              "    </tr>\n",
              "    <tr>\n",
              "      <th>2257</th>\n",
              "      <td>Female</td>\n",
              "      <td>No</td>\n",
              "      <td>No</td>\n",
              "      <td>No</td>\n",
              "      <td>41</td>\n",
              "      <td>Yes</td>\n",
              "      <td>Wifi Broadband</td>\n",
              "      <td>No</td>\n",
              "      <td>Yes</td>\n",
              "      <td>No</td>\n",
              "      <td>No</td>\n",
              "      <td>Bank</td>\n",
              "      <td>93.703441</td>\n",
              "      <td>3756.520276</td>\n",
              "    </tr>\n",
              "    <tr>\n",
              "      <th>5962</th>\n",
              "      <td>Male</td>\n",
              "      <td>No</td>\n",
              "      <td>No</td>\n",
              "      <td>No</td>\n",
              "      <td>0</td>\n",
              "      <td>Yes</td>\n",
              "      <td>Wifi Broadband</td>\n",
              "      <td>No</td>\n",
              "      <td>No</td>\n",
              "      <td>No</td>\n",
              "      <td>No</td>\n",
              "      <td>Check</td>\n",
              "      <td>45.824503</td>\n",
              "      <td>46.005585</td>\n",
              "    </tr>\n",
              "  </tbody>\n",
              "</table>\n",
              "</div>"
            ],
            "text/plain": [
              "         sex Aged Married  ... SettlementProcess  QuarterlyPayment GrandPayment\n",
              "769   Female  Yes      No  ...        Electronic         89.804996  4931.437050\n",
              "1456    Male  Yes     Yes  ...        Electronic         98.339137  5867.204745\n",
              "6326    Male   No      No  ...             Check         99.021300  5425.362193\n",
              "2257  Female   No      No  ...              Bank         93.703441  3756.520276\n",
              "5962    Male   No      No  ...             Check         45.824503    46.005585\n",
              "\n",
              "[5 rows x 14 columns]"
            ]
          },
          "metadata": {
            "tags": []
          },
          "execution_count": 11
        }
      ]
    },
    {
      "cell_type": "markdown",
      "metadata": {
        "id": "LhNrDgV3cjsH"
      },
      "source": [
        "### Label Encoding"
      ]
    },
    {
      "cell_type": "code",
      "metadata": {
        "colab": {
          "base_uri": "https://localhost:8080/"
        },
        "id": "FOpqAz0JcjsI",
        "outputId": "7e95b05f-9ad3-4e75-eb4c-b59fb6c1c31a"
      },
      "source": [
        "X_train.columns"
      ],
      "execution_count": 12,
      "outputs": [
        {
          "output_type": "execute_result",
          "data": {
            "text/plain": [
              "Index(['sex', 'Aged', 'Married', 'TotalDependents', 'ServiceSpan',\n",
              "       'MobileService', '4GService', 'CyberProtection', 'HardwareSupport',\n",
              "       'TechnicalAssistance', 'FilmSubscription', 'SettlementProcess',\n",
              "       'QuarterlyPayment', 'GrandPayment'],\n",
              "      dtype='object')"
            ]
          },
          "metadata": {
            "tags": []
          },
          "execution_count": 12
        }
      ]
    },
    {
      "cell_type": "code",
      "metadata": {
        "id": "dNNoWxYJcjsI"
      },
      "source": [
        "lst = ['Aged', 'Married', 'TotalDependents', 'MobileService', 'CyberProtection', 'HardwareSupport',\n",
        "       'TechnicalAssistance', 'FilmSubscription']"
      ],
      "execution_count": 13,
      "outputs": []
    },
    {
      "cell_type": "code",
      "metadata": {
        "id": "ANDHG1v6cjsJ"
      },
      "source": [
        "X_train[lst] = X_train[lst].replace(['Yes', 'No'], [1, 0])"
      ],
      "execution_count": 14,
      "outputs": []
    },
    {
      "cell_type": "code",
      "metadata": {
        "colab": {
          "base_uri": "https://localhost:8080/",
          "height": 301
        },
        "id": "hJPNG_mScjsK",
        "outputId": "f5826463-7836-4e62-a2b2-37a7c502ee44"
      },
      "source": [
        "X_train.head()"
      ],
      "execution_count": 15,
      "outputs": [
        {
          "output_type": "execute_result",
          "data": {
            "text/html": [
              "<div>\n",
              "<style scoped>\n",
              "    .dataframe tbody tr th:only-of-type {\n",
              "        vertical-align: middle;\n",
              "    }\n",
              "\n",
              "    .dataframe tbody tr th {\n",
              "        vertical-align: top;\n",
              "    }\n",
              "\n",
              "    .dataframe thead th {\n",
              "        text-align: right;\n",
              "    }\n",
              "</style>\n",
              "<table border=\"1\" class=\"dataframe\">\n",
              "  <thead>\n",
              "    <tr style=\"text-align: right;\">\n",
              "      <th></th>\n",
              "      <th>sex</th>\n",
              "      <th>Aged</th>\n",
              "      <th>Married</th>\n",
              "      <th>TotalDependents</th>\n",
              "      <th>ServiceSpan</th>\n",
              "      <th>MobileService</th>\n",
              "      <th>4GService</th>\n",
              "      <th>CyberProtection</th>\n",
              "      <th>HardwareSupport</th>\n",
              "      <th>TechnicalAssistance</th>\n",
              "      <th>FilmSubscription</th>\n",
              "      <th>SettlementProcess</th>\n",
              "      <th>QuarterlyPayment</th>\n",
              "      <th>GrandPayment</th>\n",
              "    </tr>\n",
              "  </thead>\n",
              "  <tbody>\n",
              "    <tr>\n",
              "      <th>769</th>\n",
              "      <td>Female</td>\n",
              "      <td>1</td>\n",
              "      <td>0</td>\n",
              "      <td>0</td>\n",
              "      <td>55</td>\n",
              "      <td>1</td>\n",
              "      <td>Wifi Broadband</td>\n",
              "      <td>0</td>\n",
              "      <td>0</td>\n",
              "      <td>0</td>\n",
              "      <td>0</td>\n",
              "      <td>Electronic</td>\n",
              "      <td>89.804996</td>\n",
              "      <td>4931.437050</td>\n",
              "    </tr>\n",
              "    <tr>\n",
              "      <th>1456</th>\n",
              "      <td>Male</td>\n",
              "      <td>1</td>\n",
              "      <td>1</td>\n",
              "      <td>0</td>\n",
              "      <td>58</td>\n",
              "      <td>1</td>\n",
              "      <td>Wifi Broadband</td>\n",
              "      <td>0</td>\n",
              "      <td>1</td>\n",
              "      <td>0</td>\n",
              "      <td>0</td>\n",
              "      <td>Electronic</td>\n",
              "      <td>98.339137</td>\n",
              "      <td>5867.204745</td>\n",
              "    </tr>\n",
              "    <tr>\n",
              "      <th>6326</th>\n",
              "      <td>Male</td>\n",
              "      <td>0</td>\n",
              "      <td>0</td>\n",
              "      <td>0</td>\n",
              "      <td>51</td>\n",
              "      <td>1</td>\n",
              "      <td>Wifi Broadband</td>\n",
              "      <td>1</td>\n",
              "      <td>1</td>\n",
              "      <td>1</td>\n",
              "      <td>0</td>\n",
              "      <td>Check</td>\n",
              "      <td>99.021300</td>\n",
              "      <td>5425.362193</td>\n",
              "    </tr>\n",
              "    <tr>\n",
              "      <th>2257</th>\n",
              "      <td>Female</td>\n",
              "      <td>0</td>\n",
              "      <td>0</td>\n",
              "      <td>0</td>\n",
              "      <td>41</td>\n",
              "      <td>1</td>\n",
              "      <td>Wifi Broadband</td>\n",
              "      <td>0</td>\n",
              "      <td>1</td>\n",
              "      <td>0</td>\n",
              "      <td>0</td>\n",
              "      <td>Bank</td>\n",
              "      <td>93.703441</td>\n",
              "      <td>3756.520276</td>\n",
              "    </tr>\n",
              "    <tr>\n",
              "      <th>5962</th>\n",
              "      <td>Male</td>\n",
              "      <td>0</td>\n",
              "      <td>0</td>\n",
              "      <td>0</td>\n",
              "      <td>0</td>\n",
              "      <td>1</td>\n",
              "      <td>Wifi Broadband</td>\n",
              "      <td>0</td>\n",
              "      <td>0</td>\n",
              "      <td>0</td>\n",
              "      <td>0</td>\n",
              "      <td>Check</td>\n",
              "      <td>45.824503</td>\n",
              "      <td>46.005585</td>\n",
              "    </tr>\n",
              "  </tbody>\n",
              "</table>\n",
              "</div>"
            ],
            "text/plain": [
              "         sex  Aged  Married  ...  SettlementProcess  QuarterlyPayment  GrandPayment\n",
              "769   Female     1        0  ...         Electronic         89.804996   4931.437050\n",
              "1456    Male     1        1  ...         Electronic         98.339137   5867.204745\n",
              "6326    Male     0        0  ...              Check         99.021300   5425.362193\n",
              "2257  Female     0        0  ...               Bank         93.703441   3756.520276\n",
              "5962    Male     0        0  ...              Check         45.824503     46.005585\n",
              "\n",
              "[5 rows x 14 columns]"
            ]
          },
          "metadata": {
            "tags": []
          },
          "execution_count": 15
        }
      ]
    },
    {
      "cell_type": "markdown",
      "metadata": {
        "id": "5Yc_d5XhcjsK"
      },
      "source": [
        "### One Hot Encoding"
      ]
    },
    {
      "cell_type": "code",
      "metadata": {
        "colab": {
          "base_uri": "https://localhost:8080/",
          "height": 234
        },
        "id": "Ai7ex4RqcjsL",
        "outputId": "109ecd63-0670-4670-8655-5e47ca4ca566"
      },
      "source": [
        "X_train_Encod = pd.get_dummies(X_train, drop_first=True)\n",
        "X_train_Encod.head()"
      ],
      "execution_count": 16,
      "outputs": [
        {
          "output_type": "execute_result",
          "data": {
            "text/html": [
              "<div>\n",
              "<style scoped>\n",
              "    .dataframe tbody tr th:only-of-type {\n",
              "        vertical-align: middle;\n",
              "    }\n",
              "\n",
              "    .dataframe tbody tr th {\n",
              "        vertical-align: top;\n",
              "    }\n",
              "\n",
              "    .dataframe thead th {\n",
              "        text-align: right;\n",
              "    }\n",
              "</style>\n",
              "<table border=\"1\" class=\"dataframe\">\n",
              "  <thead>\n",
              "    <tr style=\"text-align: right;\">\n",
              "      <th></th>\n",
              "      <th>Aged</th>\n",
              "      <th>Married</th>\n",
              "      <th>TotalDependents</th>\n",
              "      <th>ServiceSpan</th>\n",
              "      <th>MobileService</th>\n",
              "      <th>CyberProtection</th>\n",
              "      <th>HardwareSupport</th>\n",
              "      <th>TechnicalAssistance</th>\n",
              "      <th>FilmSubscription</th>\n",
              "      <th>QuarterlyPayment</th>\n",
              "      <th>GrandPayment</th>\n",
              "      <th>sex_Male</th>\n",
              "      <th>4GService_Satellite Broadband</th>\n",
              "      <th>4GService_Wifi Broadband</th>\n",
              "      <th>SettlementProcess_Card</th>\n",
              "      <th>SettlementProcess_Check</th>\n",
              "      <th>SettlementProcess_Electronic</th>\n",
              "    </tr>\n",
              "  </thead>\n",
              "  <tbody>\n",
              "    <tr>\n",
              "      <th>769</th>\n",
              "      <td>1</td>\n",
              "      <td>0</td>\n",
              "      <td>0</td>\n",
              "      <td>55</td>\n",
              "      <td>1</td>\n",
              "      <td>0</td>\n",
              "      <td>0</td>\n",
              "      <td>0</td>\n",
              "      <td>0</td>\n",
              "      <td>89.804996</td>\n",
              "      <td>4931.437050</td>\n",
              "      <td>0</td>\n",
              "      <td>0</td>\n",
              "      <td>1</td>\n",
              "      <td>0</td>\n",
              "      <td>0</td>\n",
              "      <td>1</td>\n",
              "    </tr>\n",
              "    <tr>\n",
              "      <th>1456</th>\n",
              "      <td>1</td>\n",
              "      <td>1</td>\n",
              "      <td>0</td>\n",
              "      <td>58</td>\n",
              "      <td>1</td>\n",
              "      <td>0</td>\n",
              "      <td>1</td>\n",
              "      <td>0</td>\n",
              "      <td>0</td>\n",
              "      <td>98.339137</td>\n",
              "      <td>5867.204745</td>\n",
              "      <td>1</td>\n",
              "      <td>0</td>\n",
              "      <td>1</td>\n",
              "      <td>0</td>\n",
              "      <td>0</td>\n",
              "      <td>1</td>\n",
              "    </tr>\n",
              "    <tr>\n",
              "      <th>6326</th>\n",
              "      <td>0</td>\n",
              "      <td>0</td>\n",
              "      <td>0</td>\n",
              "      <td>51</td>\n",
              "      <td>1</td>\n",
              "      <td>1</td>\n",
              "      <td>1</td>\n",
              "      <td>1</td>\n",
              "      <td>0</td>\n",
              "      <td>99.021300</td>\n",
              "      <td>5425.362193</td>\n",
              "      <td>1</td>\n",
              "      <td>0</td>\n",
              "      <td>1</td>\n",
              "      <td>0</td>\n",
              "      <td>1</td>\n",
              "      <td>0</td>\n",
              "    </tr>\n",
              "    <tr>\n",
              "      <th>2257</th>\n",
              "      <td>0</td>\n",
              "      <td>0</td>\n",
              "      <td>0</td>\n",
              "      <td>41</td>\n",
              "      <td>1</td>\n",
              "      <td>0</td>\n",
              "      <td>1</td>\n",
              "      <td>0</td>\n",
              "      <td>0</td>\n",
              "      <td>93.703441</td>\n",
              "      <td>3756.520276</td>\n",
              "      <td>0</td>\n",
              "      <td>0</td>\n",
              "      <td>1</td>\n",
              "      <td>0</td>\n",
              "      <td>0</td>\n",
              "      <td>0</td>\n",
              "    </tr>\n",
              "    <tr>\n",
              "      <th>5962</th>\n",
              "      <td>0</td>\n",
              "      <td>0</td>\n",
              "      <td>0</td>\n",
              "      <td>0</td>\n",
              "      <td>1</td>\n",
              "      <td>0</td>\n",
              "      <td>0</td>\n",
              "      <td>0</td>\n",
              "      <td>0</td>\n",
              "      <td>45.824503</td>\n",
              "      <td>46.005585</td>\n",
              "      <td>1</td>\n",
              "      <td>0</td>\n",
              "      <td>1</td>\n",
              "      <td>0</td>\n",
              "      <td>1</td>\n",
              "      <td>0</td>\n",
              "    </tr>\n",
              "  </tbody>\n",
              "</table>\n",
              "</div>"
            ],
            "text/plain": [
              "      Aged  Married  ...  SettlementProcess_Check  SettlementProcess_Electronic\n",
              "769      1        0  ...                        0                             1\n",
              "1456     1        1  ...                        0                             1\n",
              "6326     0        0  ...                        1                             0\n",
              "2257     0        0  ...                        0                             0\n",
              "5962     0        0  ...                        1                             0\n",
              "\n",
              "[5 rows x 17 columns]"
            ]
          },
          "metadata": {
            "tags": []
          },
          "execution_count": 16
        }
      ]
    },
    {
      "cell_type": "markdown",
      "metadata": {
        "id": "60jFHeQScjsM"
      },
      "source": [
        "### Feature Scaling"
      ]
    },
    {
      "cell_type": "code",
      "metadata": {
        "id": "bqhHOA43cjsM"
      },
      "source": [
        "from sklearn.preprocessing import MinMaxScaler\n",
        "scaler = MinMaxScaler()"
      ],
      "execution_count": 17,
      "outputs": []
    },
    {
      "cell_type": "code",
      "metadata": {
        "id": "THR2T-6rcjsN"
      },
      "source": [
        "for i in X_train_Encod.columns:\n",
        "    scaler.fit(X_train_Encod[[i]])\n",
        "    X_train_Encod[[i]] = scaler.transform(X_train_Encod[[i]])"
      ],
      "execution_count": 18,
      "outputs": []
    },
    {
      "cell_type": "code",
      "metadata": {
        "colab": {
          "base_uri": "https://localhost:8080/",
          "height": 234
        },
        "id": "cDCo3sIecjsN",
        "outputId": "d4309a2d-cf42-46c7-c207-ce550dd64a1b"
      },
      "source": [
        "X_train_Encod.head()"
      ],
      "execution_count": 19,
      "outputs": [
        {
          "output_type": "execute_result",
          "data": {
            "text/html": [
              "<div>\n",
              "<style scoped>\n",
              "    .dataframe tbody tr th:only-of-type {\n",
              "        vertical-align: middle;\n",
              "    }\n",
              "\n",
              "    .dataframe tbody tr th {\n",
              "        vertical-align: top;\n",
              "    }\n",
              "\n",
              "    .dataframe thead th {\n",
              "        text-align: right;\n",
              "    }\n",
              "</style>\n",
              "<table border=\"1\" class=\"dataframe\">\n",
              "  <thead>\n",
              "    <tr style=\"text-align: right;\">\n",
              "      <th></th>\n",
              "      <th>Aged</th>\n",
              "      <th>Married</th>\n",
              "      <th>TotalDependents</th>\n",
              "      <th>ServiceSpan</th>\n",
              "      <th>MobileService</th>\n",
              "      <th>CyberProtection</th>\n",
              "      <th>HardwareSupport</th>\n",
              "      <th>TechnicalAssistance</th>\n",
              "      <th>FilmSubscription</th>\n",
              "      <th>QuarterlyPayment</th>\n",
              "      <th>GrandPayment</th>\n",
              "      <th>sex_Male</th>\n",
              "      <th>4GService_Satellite Broadband</th>\n",
              "      <th>4GService_Wifi Broadband</th>\n",
              "      <th>SettlementProcess_Card</th>\n",
              "      <th>SettlementProcess_Check</th>\n",
              "      <th>SettlementProcess_Electronic</th>\n",
              "    </tr>\n",
              "  </thead>\n",
              "  <tbody>\n",
              "    <tr>\n",
              "      <th>769</th>\n",
              "      <td>1.0</td>\n",
              "      <td>0.0</td>\n",
              "      <td>0.0</td>\n",
              "      <td>0.753425</td>\n",
              "      <td>1.0</td>\n",
              "      <td>0.0</td>\n",
              "      <td>0.0</td>\n",
              "      <td>0.0</td>\n",
              "      <td>0.0</td>\n",
              "      <td>0.707162</td>\n",
              "      <td>0.567805</td>\n",
              "      <td>0.0</td>\n",
              "      <td>0.0</td>\n",
              "      <td>1.0</td>\n",
              "      <td>0.0</td>\n",
              "      <td>0.0</td>\n",
              "      <td>1.0</td>\n",
              "    </tr>\n",
              "    <tr>\n",
              "      <th>1456</th>\n",
              "      <td>1.0</td>\n",
              "      <td>1.0</td>\n",
              "      <td>0.0</td>\n",
              "      <td>0.794521</td>\n",
              "      <td>1.0</td>\n",
              "      <td>0.0</td>\n",
              "      <td>1.0</td>\n",
              "      <td>0.0</td>\n",
              "      <td>0.0</td>\n",
              "      <td>0.789494</td>\n",
              "      <td>0.675527</td>\n",
              "      <td>1.0</td>\n",
              "      <td>0.0</td>\n",
              "      <td>1.0</td>\n",
              "      <td>0.0</td>\n",
              "      <td>0.0</td>\n",
              "      <td>1.0</td>\n",
              "    </tr>\n",
              "    <tr>\n",
              "      <th>6326</th>\n",
              "      <td>0.0</td>\n",
              "      <td>0.0</td>\n",
              "      <td>0.0</td>\n",
              "      <td>0.698630</td>\n",
              "      <td>1.0</td>\n",
              "      <td>1.0</td>\n",
              "      <td>1.0</td>\n",
              "      <td>1.0</td>\n",
              "      <td>0.0</td>\n",
              "      <td>0.796075</td>\n",
              "      <td>0.624664</td>\n",
              "      <td>1.0</td>\n",
              "      <td>0.0</td>\n",
              "      <td>1.0</td>\n",
              "      <td>0.0</td>\n",
              "      <td>1.0</td>\n",
              "      <td>0.0</td>\n",
              "    </tr>\n",
              "    <tr>\n",
              "      <th>2257</th>\n",
              "      <td>0.0</td>\n",
              "      <td>0.0</td>\n",
              "      <td>0.0</td>\n",
              "      <td>0.561644</td>\n",
              "      <td>1.0</td>\n",
              "      <td>0.0</td>\n",
              "      <td>1.0</td>\n",
              "      <td>0.0</td>\n",
              "      <td>0.0</td>\n",
              "      <td>0.744771</td>\n",
              "      <td>0.432553</td>\n",
              "      <td>0.0</td>\n",
              "      <td>0.0</td>\n",
              "      <td>1.0</td>\n",
              "      <td>0.0</td>\n",
              "      <td>0.0</td>\n",
              "      <td>0.0</td>\n",
              "    </tr>\n",
              "    <tr>\n",
              "      <th>5962</th>\n",
              "      <td>0.0</td>\n",
              "      <td>0.0</td>\n",
              "      <td>0.0</td>\n",
              "      <td>0.000000</td>\n",
              "      <td>1.0</td>\n",
              "      <td>0.0</td>\n",
              "      <td>0.0</td>\n",
              "      <td>0.0</td>\n",
              "      <td>0.0</td>\n",
              "      <td>0.282865</td>\n",
              "      <td>0.005411</td>\n",
              "      <td>1.0</td>\n",
              "      <td>0.0</td>\n",
              "      <td>1.0</td>\n",
              "      <td>0.0</td>\n",
              "      <td>1.0</td>\n",
              "      <td>0.0</td>\n",
              "    </tr>\n",
              "  </tbody>\n",
              "</table>\n",
              "</div>"
            ],
            "text/plain": [
              "      Aged  Married  ...  SettlementProcess_Check  SettlementProcess_Electronic\n",
              "769    1.0      0.0  ...                      0.0                           1.0\n",
              "1456   1.0      1.0  ...                      0.0                           1.0\n",
              "6326   0.0      0.0  ...                      1.0                           0.0\n",
              "2257   0.0      0.0  ...                      0.0                           0.0\n",
              "5962   0.0      0.0  ...                      1.0                           0.0\n",
              "\n",
              "[5 rows x 17 columns]"
            ]
          },
          "metadata": {
            "tags": []
          },
          "execution_count": 19
        }
      ]
    },
    {
      "cell_type": "markdown",
      "metadata": {
        "id": "cU8m09kOcjsO"
      },
      "source": [
        "## Preprocessing on Test Set"
      ]
    },
    {
      "cell_type": "code",
      "metadata": {
        "id": "GRFZYSE3cjsP"
      },
      "source": [
        "# Dropping ID column\n",
        "X_test = X_test.drop('ID', axis = 'columns')\n",
        "\n",
        "# Imputing the missing 'GrandPayment' with -1\n",
        "X_test['GrandPayment'] = X_test['GrandPayment'].fillna(-1)\n",
        "\n",
        "# Replace negative values with 0\n",
        "X_test['ServiceSpan'] = X_test['ServiceSpan'].replace([-2, -1], 0)\n"
      ],
      "execution_count": 20,
      "outputs": []
    },
    {
      "cell_type": "code",
      "metadata": {
        "id": "63XCqtKJcjsP"
      },
      "source": [
        "# Label Encoding\n",
        "X_test[lst] = X_test[lst].replace(['Yes', 'No'], [1, 0])"
      ],
      "execution_count": 21,
      "outputs": []
    },
    {
      "cell_type": "code",
      "metadata": {
        "id": "awUOhh55cjsQ"
      },
      "source": [
        "# One hot encoding\n",
        "X_test_Encod = pd.get_dummies(X_test, drop_first=True)"
      ],
      "execution_count": 22,
      "outputs": []
    },
    {
      "cell_type": "code",
      "metadata": {
        "id": "6YqNWzoQcjsQ"
      },
      "source": [
        "for i in X_test_Encod.columns:\n",
        "    scaler.fit(X_test_Encod[[i]])\n",
        "    X_test_Encod[[i]] = scaler.transform(X_test_Encod[[i]])"
      ],
      "execution_count": 23,
      "outputs": []
    },
    {
      "cell_type": "code",
      "metadata": {
        "colab": {
          "base_uri": "https://localhost:8080/",
          "height": 234
        },
        "id": "PEdVdodccjsR",
        "outputId": "157c66ba-93f6-47c9-cbec-847aa441d6d6"
      },
      "source": [
        "X_test_Encod.head()"
      ],
      "execution_count": 24,
      "outputs": [
        {
          "output_type": "execute_result",
          "data": {
            "text/html": [
              "<div>\n",
              "<style scoped>\n",
              "    .dataframe tbody tr th:only-of-type {\n",
              "        vertical-align: middle;\n",
              "    }\n",
              "\n",
              "    .dataframe tbody tr th {\n",
              "        vertical-align: top;\n",
              "    }\n",
              "\n",
              "    .dataframe thead th {\n",
              "        text-align: right;\n",
              "    }\n",
              "</style>\n",
              "<table border=\"1\" class=\"dataframe\">\n",
              "  <thead>\n",
              "    <tr style=\"text-align: right;\">\n",
              "      <th></th>\n",
              "      <th>Aged</th>\n",
              "      <th>Married</th>\n",
              "      <th>TotalDependents</th>\n",
              "      <th>ServiceSpan</th>\n",
              "      <th>MobileService</th>\n",
              "      <th>CyberProtection</th>\n",
              "      <th>HardwareSupport</th>\n",
              "      <th>TechnicalAssistance</th>\n",
              "      <th>FilmSubscription</th>\n",
              "      <th>QuarterlyPayment</th>\n",
              "      <th>GrandPayment</th>\n",
              "      <th>sex_Male</th>\n",
              "      <th>4GService_Satellite Broadband</th>\n",
              "      <th>4GService_Wifi Broadband</th>\n",
              "      <th>SettlementProcess_Card</th>\n",
              "      <th>SettlementProcess_Check</th>\n",
              "      <th>SettlementProcess_Electronic</th>\n",
              "    </tr>\n",
              "  </thead>\n",
              "  <tbody>\n",
              "    <tr>\n",
              "      <th>5035</th>\n",
              "      <td>0.0</td>\n",
              "      <td>1.0</td>\n",
              "      <td>1.0</td>\n",
              "      <td>0.424658</td>\n",
              "      <td>1.0</td>\n",
              "      <td>0.0</td>\n",
              "      <td>0.0</td>\n",
              "      <td>0.0</td>\n",
              "      <td>1.0</td>\n",
              "      <td>0.059237</td>\n",
              "      <td>0.095363</td>\n",
              "      <td>1.0</td>\n",
              "      <td>0.0</td>\n",
              "      <td>1.0</td>\n",
              "      <td>1.0</td>\n",
              "      <td>0.0</td>\n",
              "      <td>0.0</td>\n",
              "    </tr>\n",
              "    <tr>\n",
              "      <th>5398</th>\n",
              "      <td>0.0</td>\n",
              "      <td>0.0</td>\n",
              "      <td>0.0</td>\n",
              "      <td>0.109589</td>\n",
              "      <td>1.0</td>\n",
              "      <td>0.0</td>\n",
              "      <td>0.0</td>\n",
              "      <td>0.0</td>\n",
              "      <td>1.0</td>\n",
              "      <td>0.748264</td>\n",
              "      <td>0.079744</td>\n",
              "      <td>1.0</td>\n",
              "      <td>0.0</td>\n",
              "      <td>1.0</td>\n",
              "      <td>0.0</td>\n",
              "      <td>0.0</td>\n",
              "      <td>1.0</td>\n",
              "    </tr>\n",
              "    <tr>\n",
              "      <th>1663</th>\n",
              "      <td>0.0</td>\n",
              "      <td>0.0</td>\n",
              "      <td>0.0</td>\n",
              "      <td>0.136986</td>\n",
              "      <td>1.0</td>\n",
              "      <td>1.0</td>\n",
              "      <td>0.0</td>\n",
              "      <td>0.0</td>\n",
              "      <td>0.0</td>\n",
              "      <td>0.554492</td>\n",
              "      <td>0.094077</td>\n",
              "      <td>0.0</td>\n",
              "      <td>0.0</td>\n",
              "      <td>0.0</td>\n",
              "      <td>0.0</td>\n",
              "      <td>0.0</td>\n",
              "      <td>1.0</td>\n",
              "    </tr>\n",
              "    <tr>\n",
              "      <th>2076</th>\n",
              "      <td>1.0</td>\n",
              "      <td>1.0</td>\n",
              "      <td>0.0</td>\n",
              "      <td>0.904110</td>\n",
              "      <td>1.0</td>\n",
              "      <td>0.0</td>\n",
              "      <td>0.0</td>\n",
              "      <td>1.0</td>\n",
              "      <td>1.0</td>\n",
              "      <td>0.854182</td>\n",
              "      <td>0.832062</td>\n",
              "      <td>0.0</td>\n",
              "      <td>0.0</td>\n",
              "      <td>1.0</td>\n",
              "      <td>0.0</td>\n",
              "      <td>0.0</td>\n",
              "      <td>0.0</td>\n",
              "    </tr>\n",
              "    <tr>\n",
              "      <th>4474</th>\n",
              "      <td>0.0</td>\n",
              "      <td>1.0</td>\n",
              "      <td>0.0</td>\n",
              "      <td>0.780822</td>\n",
              "      <td>1.0</td>\n",
              "      <td>1.0</td>\n",
              "      <td>1.0</td>\n",
              "      <td>1.0</td>\n",
              "      <td>1.0</td>\n",
              "      <td>0.663831</td>\n",
              "      <td>0.585361</td>\n",
              "      <td>0.0</td>\n",
              "      <td>0.0</td>\n",
              "      <td>1.0</td>\n",
              "      <td>0.0</td>\n",
              "      <td>0.0</td>\n",
              "      <td>1.0</td>\n",
              "    </tr>\n",
              "  </tbody>\n",
              "</table>\n",
              "</div>"
            ],
            "text/plain": [
              "      Aged  Married  ...  SettlementProcess_Check  SettlementProcess_Electronic\n",
              "5035   0.0      1.0  ...                      0.0                           0.0\n",
              "5398   0.0      0.0  ...                      0.0                           1.0\n",
              "1663   0.0      0.0  ...                      0.0                           1.0\n",
              "2076   1.0      1.0  ...                      0.0                           0.0\n",
              "4474   0.0      1.0  ...                      0.0                           1.0\n",
              "\n",
              "[5 rows x 17 columns]"
            ]
          },
          "metadata": {
            "tags": []
          },
          "execution_count": 24
        }
      ]
    },
    {
      "cell_type": "code",
      "metadata": {
        "colab": {
          "base_uri": "https://localhost:8080/"
        },
        "id": "_YkpClRYcjsS",
        "outputId": "6380efd3-ee28-4424-93e1-2c67b770aad8"
      },
      "source": [
        "Y_train.value_counts()"
      ],
      "execution_count": 25,
      "outputs": [
        {
          "output_type": "execute_result",
          "data": {
            "text/plain": [
              "No     3726\n",
              "Yes    1344\n",
              "Name: CustomerAttrition, dtype: int64"
            ]
          },
          "metadata": {
            "tags": []
          },
          "execution_count": 25
        }
      ]
    },
    {
      "cell_type": "markdown",
      "metadata": {
        "id": "2CdZy8rZcjsS"
      },
      "source": [
        "Oversampling is required here"
      ]
    },
    {
      "cell_type": "markdown",
      "metadata": {
        "id": "StOYFzfKcjsT"
      },
      "source": [
        "## Making ML Model"
      ]
    },
    {
      "cell_type": "code",
      "metadata": {
        "id": "CIuX9a8icjsT"
      },
      "source": [
        "from sklearn.svm import SVC\n",
        "from sklearn.linear_model import LogisticRegression\n",
        "from sklearn.ensemble import RandomForestClassifier"
      ],
      "execution_count": 26,
      "outputs": []
    },
    {
      "cell_type": "code",
      "metadata": {
        "id": "umud2jCWwCdf"
      },
      "source": [
        "from sklearn.metrics import classification_report"
      ],
      "execution_count": 34,
      "outputs": []
    },
    {
      "cell_type": "code",
      "metadata": {
        "id": "9rNnHIqHcjsU"
      },
      "source": [
        "svc = SVC()\n",
        "lr = LogisticRegression()\n",
        "rfc = RandomForestClassifier()"
      ],
      "execution_count": 35,
      "outputs": []
    },
    {
      "cell_type": "code",
      "metadata": {
        "id": "WLSdIjsycjsV"
      },
      "source": [
        "from sklearn.model_selection import cross_val_score"
      ],
      "execution_count": 36,
      "outputs": []
    },
    {
      "cell_type": "markdown",
      "metadata": {
        "id": "3cf0yDb2cjsV"
      },
      "source": [
        "#### Cross Validation on Logistic"
      ]
    },
    {
      "cell_type": "code",
      "metadata": {
        "colab": {
          "base_uri": "https://localhost:8080/"
        },
        "id": "6bTu8PpKcjsV",
        "outputId": "24fc90f3-d15b-4472-a35d-208cd5919702"
      },
      "source": [
        "acc = cross_val_score(lr, X_train_Encod, Y_train)\n",
        "acc"
      ],
      "execution_count": 37,
      "outputs": [
        {
          "output_type": "execute_result",
          "data": {
            "text/plain": [
              "array([0.78303748, 0.77712032, 0.79881657, 0.79585799, 0.80078895])"
            ]
          },
          "metadata": {
            "tags": []
          },
          "execution_count": 37
        }
      ]
    },
    {
      "cell_type": "code",
      "metadata": {
        "colab": {
          "base_uri": "https://localhost:8080/"
        },
        "id": "hnwk8ieBcjsW",
        "outputId": "4fe94340-9d0b-444b-b2dc-ceee816b5552"
      },
      "source": [
        "np.mean(acc)"
      ],
      "execution_count": 38,
      "outputs": [
        {
          "output_type": "execute_result",
          "data": {
            "text/plain": [
              "0.7911242603550296"
            ]
          },
          "metadata": {
            "tags": []
          },
          "execution_count": 38
        }
      ]
    },
    {
      "cell_type": "code",
      "metadata": {
        "colab": {
          "base_uri": "https://localhost:8080/"
        },
        "id": "LyzJFFp_cjsX",
        "outputId": "62010a6f-c411-420e-acfc-90f4a9363d13"
      },
      "source": [
        "lr.fit(X_train_Encod, Y_train)"
      ],
      "execution_count": 39,
      "outputs": [
        {
          "output_type": "execute_result",
          "data": {
            "text/plain": [
              "LogisticRegression(C=1.0, class_weight=None, dual=False, fit_intercept=True,\n",
              "                   intercept_scaling=1, l1_ratio=None, max_iter=100,\n",
              "                   multi_class='auto', n_jobs=None, penalty='l2',\n",
              "                   random_state=None, solver='lbfgs', tol=0.0001, verbose=0,\n",
              "                   warm_start=False)"
            ]
          },
          "metadata": {
            "tags": []
          },
          "execution_count": 39
        }
      ]
    },
    {
      "cell_type": "code",
      "metadata": {
        "colab": {
          "base_uri": "https://localhost:8080/"
        },
        "id": "KZUcb5bfcjsY",
        "outputId": "50bee5a8-42d5-46f2-ed85-6d5a51e253db"
      },
      "source": [
        "lr.score(X_test_Encod, Y_test)"
      ],
      "execution_count": 40,
      "outputs": [
        {
          "output_type": "execute_result",
          "data": {
            "text/plain": [
              "0.7831230283911672"
            ]
          },
          "metadata": {
            "tags": []
          },
          "execution_count": 40
        }
      ]
    },
    {
      "cell_type": "code",
      "metadata": {
        "colab": {
          "base_uri": "https://localhost:8080/"
        },
        "id": "2Thn_stNlzG9",
        "outputId": "34e09a6f-1c4e-482f-a3ae-f210d8a5ab17"
      },
      "source": [
        "print(classification_report(Y_test,lr.predict(X_test_Encod)))"
      ],
      "execution_count": 41,
      "outputs": [
        {
          "output_type": "stream",
          "text": [
            "              precision    recall  f1-score   support\n",
            "\n",
            "          No       0.83      0.89      0.86       932\n",
            "         Yes       0.61      0.49      0.55       336\n",
            "\n",
            "    accuracy                           0.78      1268\n",
            "   macro avg       0.72      0.69      0.70      1268\n",
            "weighted avg       0.77      0.78      0.77      1268\n",
            "\n"
          ],
          "name": "stdout"
        }
      ]
    },
    {
      "cell_type": "markdown",
      "metadata": {
        "id": "RxMBy2u3cjsY"
      },
      "source": [
        "#### Cross Validation on SVC"
      ]
    },
    {
      "cell_type": "code",
      "metadata": {
        "colab": {
          "base_uri": "https://localhost:8080/"
        },
        "id": "jF-HxQyUcjsZ",
        "outputId": "04ec3237-a2b8-4294-d8cc-b75b1b260dc9"
      },
      "source": [
        "acc = cross_val_score(svc, X_train_Encod, Y_train)\n",
        "acc"
      ],
      "execution_count": 42,
      "outputs": [
        {
          "output_type": "execute_result",
          "data": {
            "text/plain": [
              "array([0.7800789 , 0.78205128, 0.78994083, 0.77712032, 0.79684418])"
            ]
          },
          "metadata": {
            "tags": []
          },
          "execution_count": 42
        }
      ]
    },
    {
      "cell_type": "code",
      "metadata": {
        "colab": {
          "base_uri": "https://localhost:8080/"
        },
        "id": "UpTz42JacjsZ",
        "outputId": "7e3dee54-2b28-4847-d55a-640806cc0a8a"
      },
      "source": [
        "np.mean(acc)"
      ],
      "execution_count": 43,
      "outputs": [
        {
          "output_type": "execute_result",
          "data": {
            "text/plain": [
              "0.785207100591716"
            ]
          },
          "metadata": {
            "tags": []
          },
          "execution_count": 43
        }
      ]
    },
    {
      "cell_type": "code",
      "metadata": {
        "colab": {
          "base_uri": "https://localhost:8080/"
        },
        "id": "005M24cocjsa",
        "outputId": "82e3ac3b-4679-4cd8-856f-ed5644abaadb"
      },
      "source": [
        "svc.fit(X_train_Encod, Y_train)"
      ],
      "execution_count": 44,
      "outputs": [
        {
          "output_type": "execute_result",
          "data": {
            "text/plain": [
              "SVC(C=1.0, break_ties=False, cache_size=200, class_weight=None, coef0=0.0,\n",
              "    decision_function_shape='ovr', degree=3, gamma='scale', kernel='rbf',\n",
              "    max_iter=-1, probability=False, random_state=None, shrinking=True,\n",
              "    tol=0.001, verbose=False)"
            ]
          },
          "metadata": {
            "tags": []
          },
          "execution_count": 44
        }
      ]
    },
    {
      "cell_type": "code",
      "metadata": {
        "colab": {
          "base_uri": "https://localhost:8080/"
        },
        "id": "4zF56wrrcjsb",
        "outputId": "a0a55d82-4e06-46c0-b855-ac5787081b85"
      },
      "source": [
        "svc.score(X_test_Encod, Y_test)"
      ],
      "execution_count": 45,
      "outputs": [
        {
          "output_type": "execute_result",
          "data": {
            "text/plain": [
              "0.7839116719242902"
            ]
          },
          "metadata": {
            "tags": []
          },
          "execution_count": 45
        }
      ]
    },
    {
      "cell_type": "code",
      "metadata": {
        "colab": {
          "base_uri": "https://localhost:8080/"
        },
        "id": "JdMSnFnBlvgx",
        "outputId": "838e00f2-89e7-4ae0-df9e-f6f39be8abc1"
      },
      "source": [
        "print(classification_report(Y_test,svc.predict(X_test_Encod)))"
      ],
      "execution_count": 46,
      "outputs": [
        {
          "output_type": "stream",
          "text": [
            "              precision    recall  f1-score   support\n",
            "\n",
            "          No       0.81      0.92      0.86       932\n",
            "         Yes       0.64      0.41      0.50       336\n",
            "\n",
            "    accuracy                           0.78      1268\n",
            "   macro avg       0.73      0.66      0.68      1268\n",
            "weighted avg       0.77      0.78      0.77      1268\n",
            "\n"
          ],
          "name": "stdout"
        }
      ]
    },
    {
      "cell_type": "markdown",
      "metadata": {
        "id": "z0DZ2Dw6cjsh"
      },
      "source": [
        "#### Cross Validation on RandomForestClassifier"
      ]
    },
    {
      "cell_type": "code",
      "metadata": {
        "colab": {
          "base_uri": "https://localhost:8080/"
        },
        "id": "-EUJtsracjsh",
        "outputId": "222a6d60-e920-458e-d446-b2553291fdbc"
      },
      "source": [
        "acc = cross_val_score(rfc, X_train_Encod, Y_train)\n",
        "acc"
      ],
      "execution_count": 47,
      "outputs": [
        {
          "output_type": "execute_result",
          "data": {
            "text/plain": [
              "array([0.77810651, 0.78303748, 0.78796844, 0.78698225, 0.78500986])"
            ]
          },
          "metadata": {
            "tags": []
          },
          "execution_count": 47
        }
      ]
    },
    {
      "cell_type": "code",
      "metadata": {
        "colab": {
          "base_uri": "https://localhost:8080/"
        },
        "id": "Y09g_RKCcjsi",
        "outputId": "ead5755b-1c8e-4816-dfdf-471ba9986e99"
      },
      "source": [
        "np.mean(acc)"
      ],
      "execution_count": 48,
      "outputs": [
        {
          "output_type": "execute_result",
          "data": {
            "text/plain": [
              "0.7842209072978304"
            ]
          },
          "metadata": {
            "tags": []
          },
          "execution_count": 48
        }
      ]
    },
    {
      "cell_type": "code",
      "metadata": {
        "colab": {
          "base_uri": "https://localhost:8080/"
        },
        "id": "LjPsYySGcjsi",
        "outputId": "f92f20af-b75a-4816-a537-7263642100ec"
      },
      "source": [
        "rfc.fit(X_train_Encod, Y_train)"
      ],
      "execution_count": 49,
      "outputs": [
        {
          "output_type": "execute_result",
          "data": {
            "text/plain": [
              "RandomForestClassifier(bootstrap=True, ccp_alpha=0.0, class_weight=None,\n",
              "                       criterion='gini', max_depth=None, max_features='auto',\n",
              "                       max_leaf_nodes=None, max_samples=None,\n",
              "                       min_impurity_decrease=0.0, min_impurity_split=None,\n",
              "                       min_samples_leaf=1, min_samples_split=2,\n",
              "                       min_weight_fraction_leaf=0.0, n_estimators=100,\n",
              "                       n_jobs=None, oob_score=False, random_state=None,\n",
              "                       verbose=0, warm_start=False)"
            ]
          },
          "metadata": {
            "tags": []
          },
          "execution_count": 49
        }
      ]
    },
    {
      "cell_type": "code",
      "metadata": {
        "colab": {
          "base_uri": "https://localhost:8080/"
        },
        "id": "vM-RbP-ylsNr",
        "outputId": "355f102d-3fa2-4b2e-de2a-c50425d1538c"
      },
      "source": [
        "print(classification_report(Y_test,rfc.predict(X_test_Encod)))"
      ],
      "execution_count": 50,
      "outputs": [
        {
          "output_type": "stream",
          "text": [
            "              precision    recall  f1-score   support\n",
            "\n",
            "          No       0.82      0.90      0.86       932\n",
            "         Yes       0.62      0.47      0.54       336\n",
            "\n",
            "    accuracy                           0.78      1268\n",
            "   macro avg       0.72      0.68      0.70      1268\n",
            "weighted avg       0.77      0.78      0.77      1268\n",
            "\n"
          ],
          "name": "stdout"
        }
      ]
    },
    {
      "cell_type": "markdown",
      "metadata": {
        "id": "get2LbLxcjsk"
      },
      "source": [
        "#### Over Sampling"
      ]
    },
    {
      "cell_type": "code",
      "metadata": {
        "id": "MtDaQzP9cjsk"
      },
      "source": [
        ""
      ],
      "execution_count": 50,
      "outputs": []
    },
    {
      "cell_type": "code",
      "metadata": {
        "id": "i8ljO-KGcjsl"
      },
      "source": [
        "## RandomOverSampler to handle imbalanced data\n",
        "\n",
        "from imblearn.over_sampling import RandomOverSampler\n",
        "\n",
        "from collections import Counter"
      ],
      "execution_count": 51,
      "outputs": []
    },
    {
      "cell_type": "code",
      "metadata": {
        "id": "qJceSahccjsl"
      },
      "source": [
        "os =  RandomOverSampler(ratio=1)"
      ],
      "execution_count": 52,
      "outputs": []
    },
    {
      "cell_type": "code",
      "metadata": {
        "id": "km6K3nAFcjsm"
      },
      "source": [
        "X_train_res, y_train_res = os.fit_sample(X_train_Encod, Y_train)"
      ],
      "execution_count": 53,
      "outputs": []
    },
    {
      "cell_type": "code",
      "metadata": {
        "colab": {
          "base_uri": "https://localhost:8080/"
        },
        "id": "GGGROB-Pc8Fh",
        "outputId": "c3318001-ba62-41ea-f9e0-2c522ab9d71e"
      },
      "source": [
        "X_train_res.shape,y_train_res.shape"
      ],
      "execution_count": 54,
      "outputs": [
        {
          "output_type": "execute_result",
          "data": {
            "text/plain": [
              "((7452, 17), (7452,))"
            ]
          },
          "metadata": {
            "tags": []
          },
          "execution_count": 54
        }
      ]
    },
    {
      "cell_type": "code",
      "metadata": {
        "colab": {
          "base_uri": "https://localhost:8080/"
        },
        "id": "j2WS5ImNc8AY",
        "outputId": "349e749b-b174-4c94-eeae-5bf27b1d4fec"
      },
      "source": [
        "print('Original dataset shape {}'.format(Counter(Y_train)))\n",
        "print('Resampled dataset shape {}'.format(Counter(y_train_res)))"
      ],
      "execution_count": 55,
      "outputs": [
        {
          "output_type": "stream",
          "text": [
            "Original dataset shape Counter({'No': 3726, 'Yes': 1344})\n",
            "Resampled dataset shape Counter({'No': 3726, 'Yes': 3726})\n"
          ],
          "name": "stdout"
        }
      ]
    },
    {
      "cell_type": "markdown",
      "metadata": {
        "id": "kfFKHdZgd5xR"
      },
      "source": [
        "Checking the model accuracy again"
      ]
    },
    {
      "cell_type": "code",
      "metadata": {
        "colab": {
          "base_uri": "https://localhost:8080/"
        },
        "id": "Iz3vbGnHd0Il",
        "outputId": "20c3a16f-fab5-4fb2-f12c-fb1ed94de8c8"
      },
      "source": [
        "acc = cross_val_score(rfc, X_train_res, y_train_res)\n",
        "acc"
      ],
      "execution_count": 57,
      "outputs": [
        {
          "output_type": "execute_result",
          "data": {
            "text/plain": [
              "array([0.87525151, 0.89000671, 0.91610738, 0.90939597, 0.92550336])"
            ]
          },
          "metadata": {
            "tags": []
          },
          "execution_count": 57
        }
      ]
    },
    {
      "cell_type": "code",
      "metadata": {
        "colab": {
          "base_uri": "https://localhost:8080/"
        },
        "id": "gqHLQZWqeF_I",
        "outputId": "4f7028bd-231a-417d-82ad-2f9cfa1608f9"
      },
      "source": [
        "np.mean(acc)"
      ],
      "execution_count": 58,
      "outputs": [
        {
          "output_type": "execute_result",
          "data": {
            "text/plain": [
              "0.9032529854743674"
            ]
          },
          "metadata": {
            "tags": []
          },
          "execution_count": 58
        }
      ]
    },
    {
      "cell_type": "code",
      "metadata": {
        "colab": {
          "base_uri": "https://localhost:8080/"
        },
        "id": "YKXaKf1AeF7-",
        "outputId": "d91ee20c-09c3-4a8b-9f07-80afc092b9f0"
      },
      "source": [
        "acc = cross_val_score(svc, X_train_res, y_train_res)\n",
        "acc"
      ],
      "execution_count": 59,
      "outputs": [
        {
          "output_type": "execute_result",
          "data": {
            "text/plain": [
              "array([0.76190476, 0.76995305, 0.7852349 , 0.76845638, 0.8033557 ])"
            ]
          },
          "metadata": {
            "tags": []
          },
          "execution_count": 59
        }
      ]
    },
    {
      "cell_type": "code",
      "metadata": {
        "colab": {
          "base_uri": "https://localhost:8080/"
        },
        "id": "vV400ZGDeF40",
        "outputId": "26e382e9-fc6f-4690-fe04-b4f2a5fb001c"
      },
      "source": [
        "np.mean(acc)"
      ],
      "execution_count": 60,
      "outputs": [
        {
          "output_type": "execute_result",
          "data": {
            "text/plain": [
              "0.7777809586827452"
            ]
          },
          "metadata": {
            "tags": []
          },
          "execution_count": 60
        }
      ]
    },
    {
      "cell_type": "code",
      "metadata": {
        "colab": {
          "base_uri": "https://localhost:8080/"
        },
        "id": "KzTDSF6EeF1-",
        "outputId": "476da422-0a26-4ece-c1c1-228d0af90bfd"
      },
      "source": [
        "acc = cross_val_score(lr, X_train_res, y_train_res)\n",
        "acc"
      ],
      "execution_count": 61,
      "outputs": [
        {
          "output_type": "execute_result",
          "data": {
            "text/plain": [
              "array([0.74647887, 0.7665996 , 0.77919463, 0.7590604 , 0.78053691])"
            ]
          },
          "metadata": {
            "tags": []
          },
          "execution_count": 61
        }
      ]
    },
    {
      "cell_type": "code",
      "metadata": {
        "colab": {
          "base_uri": "https://localhost:8080/"
        },
        "id": "UNNniZc7eFy_",
        "outputId": "b3741590-6126-433e-c744-4a5d163d9ffd"
      },
      "source": [
        "np.mean(acc)"
      ],
      "execution_count": 62,
      "outputs": [
        {
          "output_type": "execute_result",
          "data": {
            "text/plain": [
              "0.766374083426735"
            ]
          },
          "metadata": {
            "tags": []
          },
          "execution_count": 62
        }
      ]
    },
    {
      "cell_type": "markdown",
      "metadata": {
        "id": "wWfulXW8erAV"
      },
      "source": [
        "### Checking the accuracy now"
      ]
    },
    {
      "cell_type": "code",
      "metadata": {
        "colab": {
          "base_uri": "https://localhost:8080/"
        },
        "id": "n9TnVBgoeFtb",
        "outputId": "e72900ea-d87f-449f-d25f-f03522a5f949"
      },
      "source": [
        "rfc.fit(X_train_res, y_train_res)\n",
        "lr.fit(X_train_res, y_train_res)\n",
        "svc.fit(X_train_res, y_train_res)"
      ],
      "execution_count": 63,
      "outputs": [
        {
          "output_type": "execute_result",
          "data": {
            "text/plain": [
              "SVC(C=1.0, break_ties=False, cache_size=200, class_weight=None, coef0=0.0,\n",
              "    decision_function_shape='ovr', degree=3, gamma='scale', kernel='rbf',\n",
              "    max_iter=-1, probability=False, random_state=None, shrinking=True,\n",
              "    tol=0.001, verbose=False)"
            ]
          },
          "metadata": {
            "tags": []
          },
          "execution_count": 63
        }
      ]
    },
    {
      "cell_type": "code",
      "metadata": {
        "colab": {
          "base_uri": "https://localhost:8080/"
        },
        "id": "ERxHRJvve26d",
        "outputId": "29338ddb-0d61-40ae-ed8c-288317f1ac3c"
      },
      "source": [
        "print(classification_report(Y_test,rfc.predict(X_test_Encod)))"
      ],
      "execution_count": 64,
      "outputs": [
        {
          "output_type": "stream",
          "text": [
            "              precision    recall  f1-score   support\n",
            "\n",
            "          No       0.84      0.84      0.84       932\n",
            "         Yes       0.56      0.57      0.56       336\n",
            "\n",
            "    accuracy                           0.77      1268\n",
            "   macro avg       0.70      0.70      0.70      1268\n",
            "weighted avg       0.77      0.77      0.77      1268\n",
            "\n"
          ],
          "name": "stdout"
        }
      ]
    },
    {
      "cell_type": "code",
      "metadata": {
        "colab": {
          "base_uri": "https://localhost:8080/"
        },
        "id": "z5bWDKBIe21V",
        "outputId": "ba4f3a02-4bd7-452c-ef97-f26604faf4b4"
      },
      "source": [
        "print(classification_report(Y_test,lr.predict(X_test_Encod)))"
      ],
      "execution_count": 65,
      "outputs": [
        {
          "output_type": "stream",
          "text": [
            "              precision    recall  f1-score   support\n",
            "\n",
            "          No       0.89      0.74      0.80       932\n",
            "         Yes       0.50      0.74      0.60       336\n",
            "\n",
            "    accuracy                           0.74      1268\n",
            "   macro avg       0.69      0.74      0.70      1268\n",
            "weighted avg       0.78      0.74      0.75      1268\n",
            "\n"
          ],
          "name": "stdout"
        }
      ]
    },
    {
      "cell_type": "code",
      "metadata": {
        "colab": {
          "base_uri": "https://localhost:8080/"
        },
        "id": "4X6sPylFe2yP",
        "outputId": "1cdcd990-3232-42c9-c362-4a5970105b20"
      },
      "source": [
        "print(classification_report(Y_test,svc.predict(X_test_Encod)))"
      ],
      "execution_count": 66,
      "outputs": [
        {
          "output_type": "stream",
          "text": [
            "              precision    recall  f1-score   support\n",
            "\n",
            "          No       0.88      0.73      0.80       932\n",
            "         Yes       0.49      0.74      0.59       336\n",
            "\n",
            "    accuracy                           0.73      1268\n",
            "   macro avg       0.69      0.73      0.69      1268\n",
            "weighted avg       0.78      0.73      0.74      1268\n",
            "\n"
          ],
          "name": "stdout"
        }
      ]
    },
    {
      "cell_type": "code",
      "metadata": {
        "id": "yhwuD_1ke2vd"
      },
      "source": [
        ""
      ],
      "execution_count": 66,
      "outputs": []
    },
    {
      "cell_type": "markdown",
      "metadata": {
        "id": "j5Pro3SGcjsm"
      },
      "source": [
        "## Hyperparameter Tuning"
      ]
    },
    {
      "cell_type": "code",
      "metadata": {
        "id": "inpj6PJ4cjsn"
      },
      "source": [
        "from sklearn.model_selection import RandomizedSearchCV"
      ],
      "execution_count": 67,
      "outputs": []
    },
    {
      "cell_type": "code",
      "metadata": {
        "id": "SG1CcYeCcjsn"
      },
      "source": [
        "model_params = {\n",
        "    'svm': {\n",
        "        'model': SVC(gamma='auto'),\n",
        "        'params' : {\n",
        "            'C': [1,10,20],\n",
        "            'kernel': ['rbf','linear']\n",
        "        }  \n",
        "    },\n",
        "    'random_forest': {\n",
        "        'model': RandomForestClassifier(),\n",
        "        'params' : {\n",
        "            'bootstrap': [True, False],\n",
        "             'max_depth': [10, 20, 30, 40, 50, 60, 70, 80, 90, 100, None],\n",
        "             'max_features': ['auto', 'sqrt'],\n",
        "             'min_samples_leaf': [1, 2, 4],\n",
        "             'min_samples_split': [2, 5, 10],\n",
        "             'n_estimators': [200, 400, 600, 800, 1000, 1200, 1400, 1600, 1800, 2000]\n",
        "        }\n",
        "    },\n",
        "    'logistic_regression' : {\n",
        "        'model': LogisticRegression(solver='liblinear',multi_class='auto'),\n",
        "        'params': {\n",
        "  #          'C': [1,5,10]\n",
        "            'penalty' : ['l1', 'l2'],\n",
        "            'C' : np.logspace(-4, 4, 20),\n",
        "        }\n",
        "    }\n",
        "}"
      ],
      "execution_count": 68,
      "outputs": []
    },
    {
      "cell_type": "code",
      "metadata": {
        "colab": {
          "base_uri": "https://localhost:8080/",
          "height": 137
        },
        "id": "kov4lkXUcjso",
        "outputId": "a2dd58d6-5795-4c4c-a5b8-057db9c02146"
      },
      "source": [
        "scores = []\n",
        "\n",
        "for model_name, mp in model_params.items():\n",
        "    clf =  RandomizedSearchCV(mp['model'], mp['params'], cv=5, return_train_score=False,n_iter=3)\n",
        "    clf.fit(X_train_res, y_train_res)\n",
        "    scores.append({\n",
        "        'model': model_name,\n",
        "        'best_score': clf.best_score_,\n",
        "        'best_params': clf.best_params_\n",
        "    })\n",
        "    \n",
        "df = pd.DataFrame(scores,columns=['model','best_score','best_params'])\n",
        "df"
      ],
      "execution_count": 132,
      "outputs": [
        {
          "output_type": "execute_result",
          "data": {
            "text/html": [
              "<div>\n",
              "<style scoped>\n",
              "    .dataframe tbody tr th:only-of-type {\n",
              "        vertical-align: middle;\n",
              "    }\n",
              "\n",
              "    .dataframe tbody tr th {\n",
              "        vertical-align: top;\n",
              "    }\n",
              "\n",
              "    .dataframe thead th {\n",
              "        text-align: right;\n",
              "    }\n",
              "</style>\n",
              "<table border=\"1\" class=\"dataframe\">\n",
              "  <thead>\n",
              "    <tr style=\"text-align: right;\">\n",
              "      <th></th>\n",
              "      <th>model</th>\n",
              "      <th>best_score</th>\n",
              "      <th>best_params</th>\n",
              "    </tr>\n",
              "  </thead>\n",
              "  <tbody>\n",
              "    <tr>\n",
              "      <th>0</th>\n",
              "      <td>svm</td>\n",
              "      <td>0.770131</td>\n",
              "      <td>{'kernel': 'rbf', 'C': 20}</td>\n",
              "    </tr>\n",
              "    <tr>\n",
              "      <th>1</th>\n",
              "      <td>random_forest</td>\n",
              "      <td>0.899228</td>\n",
              "      <td>{'n_estimators': 600, 'min_samples_split': 5, ...</td>\n",
              "    </tr>\n",
              "    <tr>\n",
              "      <th>2</th>\n",
              "      <td>logistic_regression</td>\n",
              "      <td>0.765703</td>\n",
              "      <td>{'penalty': 'l2', 'C': 29.763514416313132}</td>\n",
              "    </tr>\n",
              "  </tbody>\n",
              "</table>\n",
              "</div>"
            ],
            "text/plain": [
              "                 model  ...                                        best_params\n",
              "0                  svm  ...                         {'kernel': 'rbf', 'C': 20}\n",
              "1        random_forest  ...  {'n_estimators': 600, 'min_samples_split': 5, ...\n",
              "2  logistic_regression  ...         {'penalty': 'l2', 'C': 29.763514416313132}\n",
              "\n",
              "[3 rows x 3 columns]"
            ]
          },
          "metadata": {
            "tags": []
          },
          "execution_count": 132
        }
      ]
    },
    {
      "cell_type": "code",
      "metadata": {
        "colab": {
          "base_uri": "https://localhost:8080/"
        },
        "id": "1CLF-xAJxSRI",
        "outputId": "38cacc48-5a57-40fe-bfa9-f72f99daf19c"
      },
      "source": [
        "list(df[df['model'] == 'random_forest']['best_params'])"
      ],
      "execution_count": 133,
      "outputs": [
        {
          "output_type": "execute_result",
          "data": {
            "text/plain": [
              "[{'bootstrap': False,\n",
              "  'max_depth': 80,\n",
              "  'max_features': 'auto',\n",
              "  'min_samples_leaf': 2,\n",
              "  'min_samples_split': 5,\n",
              "  'n_estimators': 600}]"
            ]
          },
          "metadata": {
            "tags": []
          },
          "execution_count": 133
        }
      ]
    },
    {
      "cell_type": "markdown",
      "metadata": {
        "id": "NJoacpi0xt89"
      },
      "source": [
        "these are the best parameters for RandomForestClassifier\n",
        "\n",
        "[{'bootstrap': False,\n",
        "  'max_depth': 80,\n",
        "  'max_features': 'auto',\n",
        "  'min_samples_leaf': 1,\n",
        "  'min_samples_split': 2,\n",
        "  'n_estimators': 1400}]\n",
        "  \n",
        "giving accuracy of 91.8 on training\n",
        "\n"
      ]
    },
    {
      "cell_type": "code",
      "metadata": {
        "id": "CFmCb1MQx1f5"
      },
      "source": [
        "rfc_1 = RandomForestClassifier(bootstrap= False, max_depth= 80, max_features= 'auto', min_samples_leaf= 1, min_samples_split= 2, n_estimators= 1400)"
      ],
      "execution_count": 74,
      "outputs": []
    },
    {
      "cell_type": "code",
      "metadata": {
        "colab": {
          "base_uri": "https://localhost:8080/"
        },
        "id": "jnw_uiKqyIAV",
        "outputId": "82ba2fb2-16bb-4486-d9a3-1aad79b4ddb7"
      },
      "source": [
        "rfc_1.fit(X_train_res, y_train_res)"
      ],
      "execution_count": 75,
      "outputs": [
        {
          "output_type": "execute_result",
          "data": {
            "text/plain": [
              "RandomForestClassifier(bootstrap=False, ccp_alpha=0.0, class_weight=None,\n",
              "                       criterion='gini', max_depth=80, max_features='auto',\n",
              "                       max_leaf_nodes=None, max_samples=None,\n",
              "                       min_impurity_decrease=0.0, min_impurity_split=None,\n",
              "                       min_samples_leaf=1, min_samples_split=2,\n",
              "                       min_weight_fraction_leaf=0.0, n_estimators=1400,\n",
              "                       n_jobs=None, oob_score=False, random_state=None,\n",
              "                       verbose=0, warm_start=False)"
            ]
          },
          "metadata": {
            "tags": []
          },
          "execution_count": 75
        }
      ]
    },
    {
      "cell_type": "code",
      "metadata": {
        "colab": {
          "base_uri": "https://localhost:8080/"
        },
        "id": "7lwKq4qOyp0I",
        "outputId": "d44dc0ae-0fe6-41eb-d36e-8309837a57ff"
      },
      "source": [
        "print(classification_report(Y_test,rfc_1.predict(X_test_Encod)))"
      ],
      "execution_count": 76,
      "outputs": [
        {
          "output_type": "stream",
          "text": [
            "              precision    recall  f1-score   support\n",
            "\n",
            "          No       0.82      0.89      0.85       932\n",
            "         Yes       0.60      0.46      0.52       336\n",
            "\n",
            "    accuracy                           0.78      1268\n",
            "   macro avg       0.71      0.67      0.69      1268\n",
            "weighted avg       0.76      0.78      0.77      1268\n",
            "\n"
          ],
          "name": "stdout"
        }
      ]
    },
    {
      "cell_type": "code",
      "metadata": {
        "colab": {
          "base_uri": "https://localhost:8080/"
        },
        "id": "TxfTT3b6zCXh",
        "outputId": "69148854-467e-498c-d282-13fb13e16857"
      },
      "source": [
        "rfc_1.score(X_test_Encod, Y_test)"
      ],
      "execution_count": 77,
      "outputs": [
        {
          "output_type": "execute_result",
          "data": {
            "text/plain": [
              "0.7752365930599369"
            ]
          },
          "metadata": {
            "tags": []
          },
          "execution_count": 77
        }
      ]
    },
    {
      "cell_type": "markdown",
      "metadata": {
        "id": "sA8rwq-Az6yK"
      },
      "source": [
        "#### Xgboost"
      ]
    },
    {
      "cell_type": "code",
      "metadata": {
        "id": "A3XOq7fBzVCd"
      },
      "source": [
        "import xgboost"
      ],
      "execution_count": 78,
      "outputs": []
    },
    {
      "cell_type": "code",
      "metadata": {
        "id": "IywzFsUHz_Dr"
      },
      "source": [
        "classifier=xgboost.XGBClassifier()"
      ],
      "execution_count": 79,
      "outputs": []
    },
    {
      "cell_type": "code",
      "metadata": {
        "id": "Tx26-Ffv0Dvb"
      },
      "source": [
        "## Hyper Parameter Optimization\n",
        "\n",
        "params={\n",
        " \"learning_rate\"    : [0.05, 0.10, 0.15, 0.20, 0.25, 0.30 ] ,\n",
        " \"max_depth\"        : [ 3, 4, 5, 6, 8, 10, 12, 15],\n",
        " \"min_child_weight\" : [ 1, 3, 5, 7 ],\n",
        " \"gamma\"            : [ 0.0, 0.1, 0.2 , 0.3, 0.4 ],\n",
        " \"colsample_bytree\" : [ 0.3, 0.4, 0.5 , 0.7 ]\n",
        "    \n",
        "}"
      ],
      "execution_count": 80,
      "outputs": []
    },
    {
      "cell_type": "code",
      "metadata": {
        "id": "KsoWL-Og0IJj"
      },
      "source": [
        "random_search=RandomizedSearchCV(classifier,param_distributions=params,n_iter=5,scoring='roc_auc',n_jobs=-1,cv=5,verbose=3)"
      ],
      "execution_count": 81,
      "outputs": []
    },
    {
      "cell_type": "code",
      "metadata": {
        "colab": {
          "base_uri": "https://localhost:8080/"
        },
        "id": "y6r446KV0ObI",
        "outputId": "ccdf2c58-cb95-48ad-d63e-d1a92caa70da"
      },
      "source": [
        "random_search.fit(X_train_res,y_train_res)"
      ],
      "execution_count": 82,
      "outputs": [
        {
          "output_type": "stream",
          "text": [
            "Fitting 5 folds for each of 5 candidates, totalling 25 fits\n"
          ],
          "name": "stdout"
        },
        {
          "output_type": "stream",
          "text": [
            "[Parallel(n_jobs=-1)]: Using backend LokyBackend with 2 concurrent workers.\n",
            "[Parallel(n_jobs=-1)]: Done  25 out of  25 | elapsed:   16.1s finished\n"
          ],
          "name": "stderr"
        },
        {
          "output_type": "execute_result",
          "data": {
            "text/plain": [
              "RandomizedSearchCV(cv=5, error_score=nan,\n",
              "                   estimator=XGBClassifier(base_score=0.5, booster='gbtree',\n",
              "                                           colsample_bylevel=1,\n",
              "                                           colsample_bynode=1,\n",
              "                                           colsample_bytree=1, gamma=0,\n",
              "                                           learning_rate=0.1, max_delta_step=0,\n",
              "                                           max_depth=3, min_child_weight=1,\n",
              "                                           missing=None, n_estimators=100,\n",
              "                                           n_jobs=1, nthread=None,\n",
              "                                           objective='binary:logistic',\n",
              "                                           random_state=0, reg_alpha=0,\n",
              "                                           reg_lambda=1, sc...\n",
              "                                           verbosity=1),\n",
              "                   iid='deprecated', n_iter=5, n_jobs=-1,\n",
              "                   param_distributions={'colsample_bytree': [0.3, 0.4, 0.5,\n",
              "                                                             0.7],\n",
              "                                        'gamma': [0.0, 0.1, 0.2, 0.3, 0.4],\n",
              "                                        'learning_rate': [0.05, 0.1, 0.15, 0.2,\n",
              "                                                          0.25, 0.3],\n",
              "                                        'max_depth': [3, 4, 5, 6, 8, 10, 12,\n",
              "                                                      15],\n",
              "                                        'min_child_weight': [1, 3, 5, 7]},\n",
              "                   pre_dispatch='2*n_jobs', random_state=None, refit=True,\n",
              "                   return_train_score=False, scoring='roc_auc', verbose=3)"
            ]
          },
          "metadata": {
            "tags": []
          },
          "execution_count": 82
        }
      ]
    },
    {
      "cell_type": "code",
      "metadata": {
        "colab": {
          "base_uri": "https://localhost:8080/"
        },
        "id": "ZozJoIdK0Y4l",
        "outputId": "b399bdeb-eda4-4114-852d-89c6990c5993"
      },
      "source": [
        "random_search.best_estimator_"
      ],
      "execution_count": 83,
      "outputs": [
        {
          "output_type": "execute_result",
          "data": {
            "text/plain": [
              "XGBClassifier(base_score=0.5, booster='gbtree', colsample_bylevel=1,\n",
              "              colsample_bynode=1, colsample_bytree=0.7, gamma=0.2,\n",
              "              learning_rate=0.1, max_delta_step=0, max_depth=15,\n",
              "              min_child_weight=7, missing=None, n_estimators=100, n_jobs=1,\n",
              "              nthread=None, objective='binary:logistic', random_state=0,\n",
              "              reg_alpha=0, reg_lambda=1, scale_pos_weight=1, seed=None,\n",
              "              silent=None, subsample=1, verbosity=1)"
            ]
          },
          "metadata": {
            "tags": []
          },
          "execution_count": 83
        }
      ]
    },
    {
      "cell_type": "code",
      "metadata": {
        "id": "i9W4By9Q0iep"
      },
      "source": [
        "xg_classifier = xgboost.XGBClassifier(base_score=0.5, booster='gbtree', colsample_bylevel=1,\n",
        "              colsample_bynode=1, colsample_bytree=0.7, gamma=0.2,\n",
        "              learning_rate=0.1, max_delta_step=0, max_depth=15,\n",
        "              min_child_weight=7, missing=None, n_estimators=100, n_jobs=1,\n",
        "              nthread=None, objective='binary:logistic', random_state=0,\n",
        "              reg_alpha=0, reg_lambda=1, scale_pos_weight=1, seed=None,\n",
        "              silent=None, subsample=1, verbosity=1)"
      ],
      "execution_count": 84,
      "outputs": []
    },
    {
      "cell_type": "code",
      "metadata": {
        "colab": {
          "base_uri": "https://localhost:8080/"
        },
        "id": "6GVRqKTN0sdb",
        "outputId": "f89efd32-1d67-412f-95f6-4fe14056cd21"
      },
      "source": [
        "acc = cross_val_score(xg_classifier, X_train_res, y_train_res)\n",
        "acc"
      ],
      "execution_count": 85,
      "outputs": [
        {
          "output_type": "execute_result",
          "data": {
            "text/plain": [
              "array([0.82629108, 0.82897384, 0.8738255 , 0.84765101, 0.87852349])"
            ]
          },
          "metadata": {
            "tags": []
          },
          "execution_count": 85
        }
      ]
    },
    {
      "cell_type": "code",
      "metadata": {
        "colab": {
          "base_uri": "https://localhost:8080/"
        },
        "id": "cRhYaZv0045p",
        "outputId": "c6880fe9-b820-4f54-d1df-d0870eeaabc1"
      },
      "source": [
        "np.mean(acc)"
      ],
      "execution_count": 86,
      "outputs": [
        {
          "output_type": "execute_result",
          "data": {
            "text/plain": [
              "0.8510529845741113"
            ]
          },
          "metadata": {
            "tags": []
          },
          "execution_count": 86
        }
      ]
    },
    {
      "cell_type": "code",
      "metadata": {
        "colab": {
          "base_uri": "https://localhost:8080/"
        },
        "id": "jMs3cgG11FQv",
        "outputId": "dfdf3e0d-6e55-4b66-dfcd-b50f6cdf6d75"
      },
      "source": [
        "xg_classifier.fit(X_train_res, y_train_res)"
      ],
      "execution_count": 88,
      "outputs": [
        {
          "output_type": "execute_result",
          "data": {
            "text/plain": [
              "XGBClassifier(base_score=0.5, booster='gbtree', colsample_bylevel=1,\n",
              "              colsample_bynode=1, colsample_bytree=0.7, gamma=0.2,\n",
              "              learning_rate=0.1, max_delta_step=0, max_depth=15,\n",
              "              min_child_weight=7, missing=None, n_estimators=100, n_jobs=1,\n",
              "              nthread=None, objective='binary:logistic', random_state=0,\n",
              "              reg_alpha=0, reg_lambda=1, scale_pos_weight=1, seed=None,\n",
              "              silent=None, subsample=1, verbosity=1)"
            ]
          },
          "metadata": {
            "tags": []
          },
          "execution_count": 88
        }
      ]
    },
    {
      "cell_type": "code",
      "metadata": {
        "colab": {
          "base_uri": "https://localhost:8080/"
        },
        "id": "ry_qWbNH1SlL",
        "outputId": "9c171954-f626-4242-ffb3-38490fc36d8f"
      },
      "source": [
        "np.array(X_test_Encod.head())"
      ],
      "execution_count": 92,
      "outputs": [
        {
          "output_type": "execute_result",
          "data": {
            "text/plain": [
              "array([[0.        , 1.        , 1.        , 0.42465753, 1.        ,\n",
              "        0.        , 0.        , 0.        , 1.        , 0.05923702,\n",
              "        0.09536268, 1.        , 0.        , 1.        , 1.        ,\n",
              "        0.        , 0.        ],\n",
              "       [0.        , 0.        , 0.        , 0.10958904, 1.        ,\n",
              "        0.        , 0.        , 0.        , 1.        , 0.74826408,\n",
              "        0.07974442, 1.        , 0.        , 1.        , 0.        ,\n",
              "        0.        , 1.        ],\n",
              "       [0.        , 0.        , 0.        , 0.1369863 , 1.        ,\n",
              "        1.        , 0.        , 0.        , 0.        , 0.55449211,\n",
              "        0.09407705, 0.        , 0.        , 0.        , 0.        ,\n",
              "        0.        , 1.        ],\n",
              "       [1.        , 1.        , 0.        , 0.90410959, 1.        ,\n",
              "        0.        , 0.        , 1.        , 1.        , 0.8541824 ,\n",
              "        0.83206191, 0.        , 0.        , 1.        , 0.        ,\n",
              "        0.        , 0.        ],\n",
              "       [0.        , 1.        , 0.        , 0.78082192, 1.        ,\n",
              "        1.        , 1.        , 1.        , 1.        , 0.66383131,\n",
              "        0.58536121, 0.        , 0.        , 1.        , 0.        ,\n",
              "        0.        , 1.        ]])"
            ]
          },
          "metadata": {
            "tags": []
          },
          "execution_count": 92
        }
      ]
    },
    {
      "cell_type": "code",
      "metadata": {
        "colab": {
          "base_uri": "https://localhost:8080/"
        },
        "id": "SYhu8n8o3YUo",
        "outputId": "b6465d10-689b-4a40-b005-39d3cc968a14"
      },
      "source": [
        ""
      ],
      "execution_count": 95,
      "outputs": [
        {
          "output_type": "execute_result",
          "data": {
            "text/plain": [
              "array([[1., 0., 0., ..., 0., 0., 1.],\n",
              "       [1., 1., 0., ..., 0., 0., 1.],\n",
              "       [0., 0., 0., ..., 0., 1., 0.],\n",
              "       ...,\n",
              "       [1., 0., 0., ..., 0., 0., 1.],\n",
              "       [0., 0., 0., ..., 0., 0., 1.],\n",
              "       [0., 0., 0., ..., 0., 0., 1.]])"
            ]
          },
          "metadata": {
            "tags": []
          },
          "execution_count": 95
        }
      ]
    },
    {
      "cell_type": "code",
      "metadata": {
        "colab": {
          "base_uri": "https://localhost:8080/"
        },
        "id": "cpw6Pkrj07mR",
        "outputId": "887bbba8-3a11-4afb-c569-235042eac3b9"
      },
      "source": [
        "xg_classifier.predict(np.array(X_test_Encod))"
      ],
      "execution_count": 99,
      "outputs": [
        {
          "output_type": "execute_result",
          "data": {
            "text/plain": [
              "array(['No', 'Yes', 'Yes', ..., 'Yes', 'No', 'No'], dtype=object)"
            ]
          },
          "metadata": {
            "tags": []
          },
          "execution_count": 99
        }
      ]
    },
    {
      "cell_type": "code",
      "metadata": {
        "colab": {
          "base_uri": "https://localhost:8080/"
        },
        "id": "sUHQKERp4OW2",
        "outputId": "e4f24287-166e-472a-da7d-4536a185f7b7"
      },
      "source": [
        "score_list = cross_val_score(xg_classifier,X_train_res,y_train_res,cv=10)\n",
        "score_list"
      ],
      "execution_count": 101,
      "outputs": [
        {
          "output_type": "execute_result",
          "data": {
            "text/plain": [
              "array([0.8002681 , 0.84048257, 0.84026846, 0.83758389, 0.87919463,\n",
              "       0.88187919, 0.85637584, 0.86174497, 0.87248322, 0.88724832])"
            ]
          },
          "metadata": {
            "tags": []
          },
          "execution_count": 101
        }
      ]
    },
    {
      "cell_type": "code",
      "metadata": {
        "colab": {
          "base_uri": "https://localhost:8080/"
        },
        "id": "-o40Yyof4lFI",
        "outputId": "56ee7a0e-d4fe-4870-fbe1-064b4ee51667"
      },
      "source": [
        "np.mean(score_list)"
      ],
      "execution_count": 102,
      "outputs": [
        {
          "output_type": "execute_result",
          "data": {
            "text/plain": [
              "0.855752919373122"
            ]
          },
          "metadata": {
            "tags": []
          },
          "execution_count": 102
        }
      ]
    },
    {
      "cell_type": "code",
      "metadata": {
        "colab": {
          "base_uri": "https://localhost:8080/"
        },
        "id": "C_H_h-hJ413S",
        "outputId": "cb728074-12c8-4ca7-cc17-07909c643ae1"
      },
      "source": [
        "y_train_res"
      ],
      "execution_count": 104,
      "outputs": [
        {
          "output_type": "execute_result",
          "data": {
            "text/plain": [
              "array(['No', 'No', 'No', ..., 'Yes', 'Yes', 'Yes'], dtype=object)"
            ]
          },
          "metadata": {
            "tags": []
          },
          "execution_count": 104
        }
      ]
    },
    {
      "cell_type": "code",
      "metadata": {
        "colab": {
          "base_uri": "https://localhost:8080/"
        },
        "id": "o-6ZUyL94pq5",
        "outputId": "330522b4-cd89-4091-f352-b5434ce66aba"
      },
      "source": [
        "xg_classifier.score(np.array(X_test_Encod), np.array(Y_test))"
      ],
      "execution_count": 106,
      "outputs": [
        {
          "output_type": "execute_result",
          "data": {
            "text/plain": [
              "0.7555205047318612"
            ]
          },
          "metadata": {
            "tags": []
          },
          "execution_count": 106
        }
      ]
    },
    {
      "cell_type": "code",
      "metadata": {
        "colab": {
          "base_uri": "https://localhost:8080/"
        },
        "id": "N9kf8xvp697z",
        "outputId": "edfa2375-2087-4437-8e83-bd69fdc41b38"
      },
      "source": [
        "test_new = pd.read_csv('test.csv')\n",
        "print(test_new.shape)\n",
        "test_new1 = test_new.copy()\n",
        "print(test_new1.shape)\n",
        "test_new1 = test_new1.drop('ID', axis = 'columns')\n",
        "print(test_new1.shape)\n",
        "test_new1['GrandPayment'] = test_new1['GrandPayment'].fillna(-1)\n",
        "test_new1['ServiceSpan'] = test_new1['ServiceSpan'].replace([-2, -1], 0)\n",
        "test_new1[lst] = test_new1[lst].replace(['Yes', 'No'], [1, 0])\n",
        "print(test_new1.shape)\n",
        "test_new1 = pd.get_dummies(test_new1, drop_first=True)\n",
        "print(test_new1.shape)\n",
        "for i in test_new1.columns:\n",
        "    scaler.fit(test_new1[[i]])\n",
        "    test_new1[[i]] = scaler.transform(test_new1[[i]])"
      ],
      "execution_count": 122,
      "outputs": [
        {
          "output_type": "stream",
          "text": [
            "(705, 15)\n",
            "(705, 15)\n",
            "(705, 14)\n",
            "(705, 14)\n",
            "(705, 17)\n"
          ],
          "name": "stdout"
        }
      ]
    },
    {
      "cell_type": "code",
      "metadata": {
        "colab": {
          "base_uri": "https://localhost:8080/"
        },
        "id": "ExUHvvGaBOhp",
        "outputId": "b9c0dcef-9114-4a3d-e0e1-fa265b47d495"
      },
      "source": [
        "test_new1.shape"
      ],
      "execution_count": 123,
      "outputs": [
        {
          "output_type": "execute_result",
          "data": {
            "text/plain": [
              "(705, 17)"
            ]
          },
          "metadata": {
            "tags": []
          },
          "execution_count": 123
        }
      ]
    },
    {
      "cell_type": "code",
      "metadata": {
        "colab": {
          "base_uri": "https://localhost:8080/"
        },
        "id": "oFVf1mcC9S-i",
        "outputId": "a77293bc-595d-4b9c-8d37-96285933a429"
      },
      "source": [
        "predictions = xg_classifier.predict(np.array(test_new1))\n",
        "predictions"
      ],
      "execution_count": 124,
      "outputs": [
        {
          "output_type": "execute_result",
          "data": {
            "text/plain": [
              "array(['No', 'No', 'No', 'No', 'No', 'No', 'No', 'Yes', 'Yes', 'No', 'No',\n",
              "       'No', 'No', 'Yes', 'No', 'Yes', 'No', 'No', 'No', 'Yes', 'No',\n",
              "       'No', 'Yes', 'Yes', 'No', 'Yes', 'No', 'No', 'No', 'Yes', 'Yes',\n",
              "       'No', 'No', 'No', 'No', 'No', 'No', 'Yes', 'Yes', 'No', 'No', 'No',\n",
              "       'No', 'No', 'Yes', 'Yes', 'Yes', 'No', 'Yes', 'No', 'Yes', 'No',\n",
              "       'No', 'No', 'No', 'No', 'No', 'No', 'No', 'No', 'No', 'No', 'Yes',\n",
              "       'No', 'No', 'No', 'Yes', 'No', 'Yes', 'No', 'No', 'No', 'Yes',\n",
              "       'No', 'No', 'Yes', 'No', 'No', 'Yes', 'No', 'Yes', 'No', 'Yes',\n",
              "       'No', 'No', 'No', 'No', 'No', 'No', 'No', 'Yes', 'No', 'Yes', 'No',\n",
              "       'No', 'No', 'No', 'Yes', 'No', 'Yes', 'No', 'No', 'No', 'No', 'No',\n",
              "       'Yes', 'No', 'No', 'No', 'No', 'No', 'No', 'No', 'No', 'No', 'No',\n",
              "       'No', 'No', 'Yes', 'Yes', 'No', 'No', 'No', 'No', 'No', 'No', 'No',\n",
              "       'Yes', 'No', 'Yes', 'No', 'No', 'Yes', 'No', 'Yes', 'Yes', 'No',\n",
              "       'No', 'No', 'No', 'No', 'Yes', 'No', 'Yes', 'No', 'No', 'Yes',\n",
              "       'No', 'No', 'No', 'No', 'Yes', 'No', 'No', 'No', 'No', 'No', 'No',\n",
              "       'Yes', 'No', 'Yes', 'No', 'No', 'No', 'No', 'No', 'No', 'No', 'No',\n",
              "       'No', 'Yes', 'No', 'Yes', 'Yes', 'No', 'No', 'No', 'No', 'No',\n",
              "       'No', 'No', 'No', 'No', 'No', 'No', 'Yes', 'No', 'No', 'Yes', 'No',\n",
              "       'No', 'Yes', 'No', 'No', 'No', 'No', 'No', 'Yes', 'Yes', 'Yes',\n",
              "       'Yes', 'No', 'No', 'Yes', 'No', 'No', 'No', 'Yes', 'No', 'No',\n",
              "       'No', 'Yes', 'No', 'No', 'No', 'No', 'No', 'No', 'No', 'No', 'No',\n",
              "       'No', 'Yes', 'No', 'Yes', 'No', 'Yes', 'No', 'No', 'No', 'Yes',\n",
              "       'No', 'No', 'No', 'No', 'Yes', 'No', 'Yes', 'Yes', 'No', 'No',\n",
              "       'Yes', 'No', 'No', 'Yes', 'No', 'No', 'No', 'No', 'Yes', 'Yes',\n",
              "       'No', 'Yes', 'No', 'No', 'No', 'Yes', 'No', 'No', 'No', 'No', 'No',\n",
              "       'No', 'No', 'No', 'Yes', 'No', 'No', 'Yes', 'Yes', 'Yes', 'Yes',\n",
              "       'Yes', 'No', 'No', 'Yes', 'No', 'No', 'No', 'No', 'No', 'No', 'No',\n",
              "       'Yes', 'No', 'No', 'Yes', 'Yes', 'No', 'Yes', 'No', 'No', 'No',\n",
              "       'No', 'No', 'No', 'Yes', 'No', 'No', 'No', 'Yes', 'No', 'No', 'No',\n",
              "       'No', 'No', 'Yes', 'Yes', 'No', 'No', 'No', 'No', 'No', 'No', 'No',\n",
              "       'Yes', 'No', 'No', 'No', 'No', 'No', 'No', 'No', 'No', 'No', 'Yes',\n",
              "       'Yes', 'Yes', 'Yes', 'Yes', 'No', 'No', 'No', 'No', 'Yes', 'No',\n",
              "       'No', 'Yes', 'Yes', 'Yes', 'Yes', 'No', 'No', 'No', 'No', 'No',\n",
              "       'Yes', 'No', 'No', 'No', 'Yes', 'No', 'Yes', 'No', 'No', 'No',\n",
              "       'No', 'Yes', 'Yes', 'No', 'Yes', 'Yes', 'Yes', 'No', 'Yes', 'Yes',\n",
              "       'Yes', 'No', 'No', 'No', 'Yes', 'No', 'No', 'Yes', 'No', 'Yes',\n",
              "       'No', 'No', 'No', 'No', 'No', 'Yes', 'No', 'Yes', 'Yes', 'Yes',\n",
              "       'No', 'No', 'No', 'No', 'Yes', 'No', 'No', 'No', 'No', 'No', 'No',\n",
              "       'No', 'No', 'No', 'No', 'Yes', 'No', 'No', 'No', 'No', 'No', 'No',\n",
              "       'No', 'Yes', 'No', 'No', 'No', 'Yes', 'Yes', 'Yes', 'No', 'No',\n",
              "       'No', 'Yes', 'Yes', 'No', 'Yes', 'Yes', 'No', 'Yes', 'No', 'Yes',\n",
              "       'No', 'No', 'No', 'No', 'No', 'Yes', 'Yes', 'Yes', 'Yes', 'No',\n",
              "       'No', 'No', 'No', 'No', 'No', 'No', 'No', 'Yes', 'No', 'No', 'No',\n",
              "       'No', 'No', 'No', 'Yes', 'No', 'Yes', 'No', 'No', 'Yes', 'No',\n",
              "       'No', 'No', 'No', 'No', 'No', 'No', 'Yes', 'No', 'No', 'Yes',\n",
              "       'Yes', 'No', 'No', 'Yes', 'No', 'Yes', 'No', 'Yes', 'Yes', 'Yes',\n",
              "       'Yes', 'No', 'No', 'No', 'No', 'Yes', 'Yes', 'Yes', 'No', 'No',\n",
              "       'No', 'No', 'No', 'Yes', 'No', 'No', 'No', 'Yes', 'No', 'No', 'No',\n",
              "       'Yes', 'No', 'No', 'No', 'Yes', 'Yes', 'No', 'No', 'No', 'No',\n",
              "       'No', 'No', 'Yes', 'No', 'Yes', 'No', 'No', 'No', 'No', 'No', 'No',\n",
              "       'No', 'No', 'Yes', 'No', 'Yes', 'Yes', 'No', 'No', 'No', 'No',\n",
              "       'No', 'No', 'No', 'No', 'Yes', 'No', 'Yes', 'Yes', 'Yes', 'No',\n",
              "       'Yes', 'No', 'Yes', 'Yes', 'No', 'No', 'No', 'Yes', 'Yes', 'No',\n",
              "       'No', 'No', 'No', 'No', 'No', 'No', 'No', 'No', 'No', 'No', 'No',\n",
              "       'No', 'No', 'No', 'No', 'No', 'Yes', 'No', 'No', 'Yes', 'No',\n",
              "       'Yes', 'No', 'Yes', 'No', 'Yes', 'Yes', 'No', 'Yes', 'No', 'No',\n",
              "       'No', 'No', 'No', 'No', 'No', 'Yes', 'No', 'No', 'Yes', 'No',\n",
              "       'Yes', 'No', 'Yes', 'Yes', 'No', 'No', 'No', 'Yes', 'Yes', 'No',\n",
              "       'No', 'No', 'Yes', 'No', 'Yes', 'No', 'Yes', 'No', 'No', 'No',\n",
              "       'No', 'No', 'No', 'Yes', 'No', 'No', 'Yes', 'Yes', 'No', 'No',\n",
              "       'No', 'Yes', 'Yes', 'No', 'No', 'No', 'No', 'Yes', 'Yes', 'Yes',\n",
              "       'No', 'No', 'Yes', 'No', 'No', 'No', 'No', 'No', 'No', 'No', 'Yes',\n",
              "       'Yes', 'No', 'No', 'No', 'No', 'No', 'No', 'No', 'No', 'No', 'Yes',\n",
              "       'No', 'No', 'No', 'No', 'No', 'No', 'Yes', 'Yes', 'No', 'No', 'No',\n",
              "       'Yes', 'Yes', 'No', 'No', 'No', 'No', 'No', 'No', 'No', 'Yes',\n",
              "       'Yes', 'No', 'No', 'No', 'No', 'No', 'No', 'Yes', 'Yes', 'No',\n",
              "       'No', 'No', 'Yes', 'Yes', 'No', 'Yes', 'No', 'No', 'No', 'Yes',\n",
              "       'No', 'No', 'No', 'Yes', 'No', 'No', 'Yes', 'Yes', 'Yes', 'No'],\n",
              "      dtype=object)"
            ]
          },
          "metadata": {
            "tags": []
          },
          "execution_count": 124
        }
      ]
    },
    {
      "cell_type": "markdown",
      "metadata": {
        "id": "UtG26iciFhZu"
      },
      "source": [
        "My accuracy was 0.78409"
      ]
    },
    {
      "cell_type": "code",
      "metadata": {
        "colab": {
          "base_uri": "https://localhost:8080/"
        },
        "id": "5iv4lyi2DOep",
        "outputId": "f2e924b8-e6a6-441b-f000-122dd8a6584b"
      },
      "source": [
        "predictions = rfc_1.predict(np.array(test_new1))\n",
        "predictions"
      ],
      "execution_count": 129,
      "outputs": [
        {
          "output_type": "execute_result",
          "data": {
            "text/plain": [
              "array(['No', 'No', 'No', 'No', 'No', 'No', 'No', 'Yes', 'Yes', 'No', 'No',\n",
              "       'No', 'No', 'No', 'No', 'Yes', 'No', 'No', 'No', 'Yes', 'Yes',\n",
              "       'No', 'Yes', 'Yes', 'No', 'Yes', 'No', 'No', 'No', 'No', 'Yes',\n",
              "       'No', 'No', 'No', 'No', 'No', 'No', 'Yes', 'Yes', 'No', 'No', 'No',\n",
              "       'No', 'No', 'No', 'No', 'Yes', 'No', 'No', 'No', 'Yes', 'No', 'No',\n",
              "       'No', 'No', 'No', 'No', 'No', 'No', 'No', 'No', 'No', 'Yes', 'No',\n",
              "       'No', 'No', 'Yes', 'No', 'Yes', 'No', 'No', 'No', 'No', 'No', 'No',\n",
              "       'Yes', 'No', 'No', 'Yes', 'No', 'No', 'No', 'No', 'No', 'No', 'No',\n",
              "       'No', 'No', 'No', 'No', 'No', 'No', 'No', 'No', 'No', 'No', 'No',\n",
              "       'No', 'No', 'Yes', 'No', 'No', 'No', 'No', 'No', 'Yes', 'No', 'No',\n",
              "       'No', 'No', 'No', 'No', 'No', 'No', 'No', 'No', 'No', 'No', 'No',\n",
              "       'No', 'No', 'No', 'No', 'No', 'No', 'No', 'No', 'No', 'No', 'No',\n",
              "       'No', 'No', 'Yes', 'No', 'Yes', 'No', 'No', 'No', 'No', 'No', 'No',\n",
              "       'Yes', 'No', 'Yes', 'No', 'No', 'Yes', 'No', 'No', 'No', 'No',\n",
              "       'Yes', 'No', 'No', 'No', 'No', 'No', 'No', 'No', 'No', 'No', 'No',\n",
              "       'No', 'No', 'No', 'No', 'No', 'No', 'No', 'No', 'No', 'No', 'Yes',\n",
              "       'Yes', 'No', 'No', 'No', 'No', 'No', 'No', 'No', 'No', 'No', 'No',\n",
              "       'No', 'Yes', 'No', 'No', 'No', 'No', 'No', 'Yes', 'No', 'No', 'No',\n",
              "       'No', 'No', 'No', 'Yes', 'No', 'Yes', 'No', 'No', 'Yes', 'No',\n",
              "       'No', 'No', 'Yes', 'No', 'No', 'No', 'Yes', 'No', 'No', 'No', 'No',\n",
              "       'No', 'No', 'No', 'No', 'No', 'No', 'Yes', 'No', 'No', 'No', 'Yes',\n",
              "       'No', 'No', 'No', 'No', 'No', 'No', 'No', 'No', 'Yes', 'No', 'Yes',\n",
              "       'Yes', 'No', 'No', 'Yes', 'No', 'No', 'Yes', 'No', 'No', 'No',\n",
              "       'No', 'Yes', 'Yes', 'No', 'Yes', 'No', 'No', 'No', 'Yes', 'No',\n",
              "       'No', 'No', 'No', 'No', 'No', 'No', 'No', 'Yes', 'No', 'No', 'Yes',\n",
              "       'No', 'No', 'Yes', 'Yes', 'No', 'No', 'Yes', 'No', 'No', 'No',\n",
              "       'No', 'No', 'No', 'No', 'Yes', 'No', 'No', 'Yes', 'Yes', 'No',\n",
              "       'No', 'No', 'No', 'No', 'No', 'No', 'No', 'Yes', 'No', 'No', 'No',\n",
              "       'No', 'No', 'No', 'No', 'No', 'No', 'No', 'No', 'No', 'No', 'No',\n",
              "       'No', 'No', 'No', 'No', 'Yes', 'No', 'No', 'No', 'No', 'No', 'No',\n",
              "       'No', 'No', 'No', 'No', 'Yes', 'Yes', 'Yes', 'No', 'No', 'No',\n",
              "       'No', 'No', 'Yes', 'No', 'No', 'Yes', 'Yes', 'Yes', 'No', 'No',\n",
              "       'No', 'No', 'No', 'No', 'No', 'No', 'No', 'No', 'No', 'No', 'No',\n",
              "       'No', 'No', 'No', 'No', 'Yes', 'Yes', 'No', 'Yes', 'Yes', 'No',\n",
              "       'No', 'Yes', 'No', 'Yes', 'No', 'No', 'No', 'Yes', 'Yes', 'No',\n",
              "       'No', 'No', 'Yes', 'No', 'No', 'No', 'No', 'No', 'Yes', 'No',\n",
              "       'Yes', 'Yes', 'Yes', 'No', 'No', 'No', 'No', 'No', 'No', 'No',\n",
              "       'No', 'No', 'No', 'No', 'No', 'No', 'No', 'No', 'No', 'No', 'No',\n",
              "       'No', 'No', 'No', 'No', 'No', 'Yes', 'No', 'No', 'No', 'Yes',\n",
              "       'Yes', 'Yes', 'No', 'No', 'No', 'Yes', 'Yes', 'No', 'Yes', 'No',\n",
              "       'No', 'Yes', 'No', 'No', 'No', 'No', 'No', 'No', 'No', 'Yes', 'No',\n",
              "       'No', 'Yes', 'No', 'No', 'No', 'No', 'Yes', 'No', 'No', 'No',\n",
              "       'Yes', 'Yes', 'No', 'No', 'No', 'No', 'No', 'Yes', 'No', 'No',\n",
              "       'No', 'No', 'Yes', 'No', 'No', 'No', 'No', 'No', 'No', 'No', 'Yes',\n",
              "       'No', 'No', 'No', 'Yes', 'No', 'No', 'Yes', 'No', 'Yes', 'No',\n",
              "       'No', 'No', 'No', 'Yes', 'No', 'No', 'No', 'No', 'Yes', 'Yes',\n",
              "       'Yes', 'No', 'No', 'No', 'No', 'No', 'No', 'No', 'No', 'No', 'Yes',\n",
              "       'No', 'No', 'No', 'Yes', 'No', 'No', 'No', 'Yes', 'No', 'No', 'No',\n",
              "       'No', 'No', 'No', 'No', 'No', 'No', 'Yes', 'No', 'No', 'No', 'No',\n",
              "       'No', 'No', 'No', 'No', 'Yes', 'No', 'No', 'Yes', 'No', 'No', 'No',\n",
              "       'No', 'No', 'No', 'No', 'No', 'Yes', 'No', 'No', 'Yes', 'Yes',\n",
              "       'No', 'Yes', 'No', 'Yes', 'Yes', 'No', 'No', 'No', 'No', 'No',\n",
              "       'No', 'No', 'No', 'No', 'No', 'No', 'No', 'No', 'No', 'No', 'No',\n",
              "       'No', 'No', 'No', 'No', 'No', 'No', 'No', 'No', 'No', 'No', 'No',\n",
              "       'Yes', 'No', 'Yes', 'No', 'No', 'No', 'No', 'Yes', 'No', 'No',\n",
              "       'No', 'No', 'No', 'No', 'No', 'No', 'No', 'No', 'Yes', 'No', 'Yes',\n",
              "       'No', 'No', 'Yes', 'No', 'No', 'No', 'No', 'Yes', 'No', 'No', 'No',\n",
              "       'Yes', 'No', 'Yes', 'No', 'Yes', 'No', 'No', 'No', 'No', 'No',\n",
              "       'No', 'Yes', 'No', 'No', 'Yes', 'Yes', 'No', 'No', 'No', 'No',\n",
              "       'Yes', 'No', 'No', 'No', 'No', 'Yes', 'No', 'No', 'No', 'No',\n",
              "       'Yes', 'No', 'No', 'No', 'No', 'No', 'No', 'No', 'Yes', 'No', 'No',\n",
              "       'No', 'No', 'No', 'No', 'No', 'No', 'No', 'No', 'Yes', 'No', 'No',\n",
              "       'No', 'No', 'No', 'No', 'No', 'No', 'No', 'No', 'No', 'Yes', 'Yes',\n",
              "       'No', 'No', 'No', 'No', 'No', 'No', 'No', 'Yes', 'Yes', 'No', 'No',\n",
              "       'No', 'No', 'No', 'No', 'Yes', 'No', 'No', 'No', 'No', 'Yes',\n",
              "       'Yes', 'No', 'No', 'No', 'No', 'No', 'Yes', 'No', 'No', 'No',\n",
              "       'Yes', 'No', 'No', 'Yes', 'Yes', 'Yes', 'No'], dtype=object)"
            ]
          },
          "metadata": {
            "tags": []
          },
          "execution_count": 129
        }
      ]
    },
    {
      "cell_type": "markdown",
      "metadata": {
        "id": "3PlBtcQsFago"
      },
      "source": [
        "My accuracy was 0.80303 with this model"
      ]
    },
    {
      "cell_type": "code",
      "metadata": {
        "id": "5HC_SXKsDOP9"
      },
      "source": [
        ""
      ],
      "execution_count": null,
      "outputs": []
    },
    {
      "cell_type": "code",
      "metadata": {
        "id": "4e0-wsf9DOMT"
      },
      "source": [
        ""
      ],
      "execution_count": null,
      "outputs": []
    },
    {
      "cell_type": "code",
      "metadata": {
        "colab": {
          "base_uri": "https://localhost:8080/",
          "height": 197
        },
        "id": "syPmgx_z1CxF",
        "outputId": "609358dd-ce94-4370-8fdc-f78b5f3558c6"
      },
      "source": [
        "# To create Dataframe of predicted value with particular respective index\n",
        "res = pd.DataFrame(predictions) #preditcions are nothing but the final predictions of your model on input features of your new unseen test data\n",
        "res.index = test_new.index # its important for comparison. Here \"test_new\" is your new test dataset\n",
        "res = pd.concat([test_new[['ID']], res], axis = 'columns')\n",
        "res.columns = ['ID',\"CustomerAttrition\"]\n",
        "res.reset_index(drop=True, inplace=True)\n",
        "res.head()"
      ],
      "execution_count": 130,
      "outputs": [
        {
          "output_type": "execute_result",
          "data": {
            "text/html": [
              "<div>\n",
              "<style scoped>\n",
              "    .dataframe tbody tr th:only-of-type {\n",
              "        vertical-align: middle;\n",
              "    }\n",
              "\n",
              "    .dataframe tbody tr th {\n",
              "        vertical-align: top;\n",
              "    }\n",
              "\n",
              "    .dataframe thead th {\n",
              "        text-align: right;\n",
              "    }\n",
              "</style>\n",
              "<table border=\"1\" class=\"dataframe\">\n",
              "  <thead>\n",
              "    <tr style=\"text-align: right;\">\n",
              "      <th></th>\n",
              "      <th>ID</th>\n",
              "      <th>CustomerAttrition</th>\n",
              "    </tr>\n",
              "  </thead>\n",
              "  <tbody>\n",
              "    <tr>\n",
              "      <th>0</th>\n",
              "      <td>WMORTPCG3HTIPEFSGUFY</td>\n",
              "      <td>No</td>\n",
              "    </tr>\n",
              "    <tr>\n",
              "      <th>1</th>\n",
              "      <td>GBLPEA16C3KGBO57KEFO</td>\n",
              "      <td>No</td>\n",
              "    </tr>\n",
              "    <tr>\n",
              "      <th>2</th>\n",
              "      <td>IDCQS0CO5P29AMKY3LO1</td>\n",
              "      <td>No</td>\n",
              "    </tr>\n",
              "    <tr>\n",
              "      <th>3</th>\n",
              "      <td>1IY29SDITYU6IFZ4KJB0</td>\n",
              "      <td>No</td>\n",
              "    </tr>\n",
              "    <tr>\n",
              "      <th>4</th>\n",
              "      <td>T5XMW5B0YPCONH30WJD2</td>\n",
              "      <td>No</td>\n",
              "    </tr>\n",
              "  </tbody>\n",
              "</table>\n",
              "</div>"
            ],
            "text/plain": [
              "                     ID CustomerAttrition\n",
              "0  WMORTPCG3HTIPEFSGUFY                No\n",
              "1  GBLPEA16C3KGBO57KEFO                No\n",
              "2  IDCQS0CO5P29AMKY3LO1                No\n",
              "3  1IY29SDITYU6IFZ4KJB0                No\n",
              "4  T5XMW5B0YPCONH30WJD2                No"
            ]
          },
          "metadata": {
            "tags": []
          },
          "execution_count": 130
        }
      ]
    },
    {
      "cell_type": "code",
      "metadata": {
        "colab": {
          "base_uri": "https://localhost:8080/",
          "height": 16
        },
        "id": "M0fUECtr85-9",
        "outputId": "a3a165d7-5bf8-44e5-f063-caa7937581eb"
      },
      "source": [
        "# To download the csv file locally\n",
        "from google.colab import files\n",
        "res.to_csv('prediction2_RFC.csv')         \n",
        "files.download('prediction2_RFC.csv')"
      ],
      "execution_count": 131,
      "outputs": [
        {
          "output_type": "display_data",
          "data": {
            "application/javascript": [
              "\n",
              "    async function download(id, filename, size) {\n",
              "      if (!google.colab.kernel.accessAllowed) {\n",
              "        return;\n",
              "      }\n",
              "      const div = document.createElement('div');\n",
              "      const label = document.createElement('label');\n",
              "      label.textContent = `Downloading \"${filename}\": `;\n",
              "      div.appendChild(label);\n",
              "      const progress = document.createElement('progress');\n",
              "      progress.max = size;\n",
              "      div.appendChild(progress);\n",
              "      document.body.appendChild(div);\n",
              "\n",
              "      const buffers = [];\n",
              "      let downloaded = 0;\n",
              "\n",
              "      const channel = await google.colab.kernel.comms.open(id);\n",
              "      // Send a message to notify the kernel that we're ready.\n",
              "      channel.send({})\n",
              "\n",
              "      for await (const message of channel.messages) {\n",
              "        // Send a message to notify the kernel that we're ready.\n",
              "        channel.send({})\n",
              "        if (message.buffers) {\n",
              "          for (const buffer of message.buffers) {\n",
              "            buffers.push(buffer);\n",
              "            downloaded += buffer.byteLength;\n",
              "            progress.value = downloaded;\n",
              "          }\n",
              "        }\n",
              "      }\n",
              "      const blob = new Blob(buffers, {type: 'application/binary'});\n",
              "      const a = document.createElement('a');\n",
              "      a.href = window.URL.createObjectURL(blob);\n",
              "      a.download = filename;\n",
              "      div.appendChild(a);\n",
              "      a.click();\n",
              "      div.remove();\n",
              "    }\n",
              "  "
            ],
            "text/plain": [
              "<IPython.core.display.Javascript object>"
            ]
          },
          "metadata": {
            "tags": []
          }
        },
        {
          "output_type": "display_data",
          "data": {
            "application/javascript": [
              "download(\"download_616c22e0-4a6f-4d31-a347-ec631b2d54a6\", \"prediction2_RFC.csv\", 19793)"
            ],
            "text/plain": [
              "<IPython.core.display.Javascript object>"
            ]
          },
          "metadata": {
            "tags": []
          }
        }
      ]
    },
    {
      "cell_type": "code",
      "metadata": {
        "id": "9Q-JHSyM4EKn"
      },
      "source": [
        ""
      ],
      "execution_count": null,
      "outputs": []
    }
  ]
}